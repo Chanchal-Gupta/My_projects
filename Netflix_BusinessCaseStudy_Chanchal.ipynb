{
  "cells": [
    {
      "cell_type": "markdown",
      "metadata": {
        "id": "view-in-github",
        "colab_type": "text"
      },
      "source": [
        "<a href=\"https://colab.research.google.com/github/Chanchal-Gupta/My_projects/blob/main/Netflix_BusinessCaseStudy_Chanchal.ipynb\" target=\"_parent\"><img src=\"https://colab.research.google.com/assets/colab-badge.svg\" alt=\"Open In Colab\"/></a>"
      ]
    },
    {
      "cell_type": "code",
      "execution_count": 1,
      "id": "bbe6a6f2",
      "metadata": {
        "id": "bbe6a6f2"
      },
      "outputs": [],
      "source": [
        "import numpy as np\n",
        "import pandas as pd\n",
        "import matplotlib.pyplot as plt\n",
        "import seaborn as sns"
      ]
    },
    {
      "cell_type": "code",
      "execution_count": null,
      "id": "64f6a16f",
      "metadata": {
        "id": "64f6a16f"
      },
      "outputs": [],
      "source": [
        "netflix = pd.read_csv('original_netflix.csv')"
      ]
    },
    {
      "cell_type": "code",
      "execution_count": null,
      "id": "2985c393",
      "metadata": {
        "id": "2985c393",
        "outputId": "b5d683af-3218-4e2f-ee92-ebec1cec7ef3"
      },
      "outputs": [
        {
          "data": {
            "text/html": [
              "<div>\n",
              "<style scoped>\n",
              "    .dataframe tbody tr th:only-of-type {\n",
              "        vertical-align: middle;\n",
              "    }\n",
              "\n",
              "    .dataframe tbody tr th {\n",
              "        vertical-align: top;\n",
              "    }\n",
              "\n",
              "    .dataframe thead th {\n",
              "        text-align: right;\n",
              "    }\n",
              "</style>\n",
              "<table border=\"1\" class=\"dataframe\">\n",
              "  <thead>\n",
              "    <tr style=\"text-align: right;\">\n",
              "      <th></th>\n",
              "      <th>show_id</th>\n",
              "      <th>type</th>\n",
              "      <th>title</th>\n",
              "      <th>director</th>\n",
              "      <th>cast</th>\n",
              "      <th>country</th>\n",
              "      <th>date_added</th>\n",
              "      <th>release_year</th>\n",
              "      <th>rating</th>\n",
              "      <th>duration</th>\n",
              "      <th>listed_in</th>\n",
              "      <th>description</th>\n",
              "    </tr>\n",
              "  </thead>\n",
              "  <tbody>\n",
              "    <tr>\n",
              "      <th>0</th>\n",
              "      <td>s1</td>\n",
              "      <td>Movie</td>\n",
              "      <td>Dick Johnson Is Dead</td>\n",
              "      <td>Kirsten Johnson</td>\n",
              "      <td>NaN</td>\n",
              "      <td>United States</td>\n",
              "      <td>September 25, 2021</td>\n",
              "      <td>2020</td>\n",
              "      <td>PG-13</td>\n",
              "      <td>90 min</td>\n",
              "      <td>Documentaries</td>\n",
              "      <td>As her father nears the end of his life, filmm...</td>\n",
              "    </tr>\n",
              "    <tr>\n",
              "      <th>1</th>\n",
              "      <td>s2</td>\n",
              "      <td>TV Show</td>\n",
              "      <td>Blood &amp; Water</td>\n",
              "      <td>NaN</td>\n",
              "      <td>Ama Qamata, Khosi Ngema, Gail Mabalane, Thaban...</td>\n",
              "      <td>South Africa</td>\n",
              "      <td>September 24, 2021</td>\n",
              "      <td>2021</td>\n",
              "      <td>TV-MA</td>\n",
              "      <td>2 Seasons</td>\n",
              "      <td>International TV Shows, TV Dramas, TV Mysteries</td>\n",
              "      <td>After crossing paths at a party, a Cape Town t...</td>\n",
              "    </tr>\n",
              "    <tr>\n",
              "      <th>2</th>\n",
              "      <td>s3</td>\n",
              "      <td>TV Show</td>\n",
              "      <td>Ganglands</td>\n",
              "      <td>Julien Leclercq</td>\n",
              "      <td>Sami Bouajila, Tracy Gotoas, Samuel Jouy, Nabi...</td>\n",
              "      <td>NaN</td>\n",
              "      <td>September 24, 2021</td>\n",
              "      <td>2021</td>\n",
              "      <td>TV-MA</td>\n",
              "      <td>1 Season</td>\n",
              "      <td>Crime TV Shows, International TV Shows, TV Act...</td>\n",
              "      <td>To protect his family from a powerful drug lor...</td>\n",
              "    </tr>\n",
              "    <tr>\n",
              "      <th>3</th>\n",
              "      <td>s4</td>\n",
              "      <td>TV Show</td>\n",
              "      <td>Jailbirds New Orleans</td>\n",
              "      <td>NaN</td>\n",
              "      <td>NaN</td>\n",
              "      <td>NaN</td>\n",
              "      <td>September 24, 2021</td>\n",
              "      <td>2021</td>\n",
              "      <td>TV-MA</td>\n",
              "      <td>1 Season</td>\n",
              "      <td>Docuseries, Reality TV</td>\n",
              "      <td>Feuds, flirtations and toilet talk go down amo...</td>\n",
              "    </tr>\n",
              "    <tr>\n",
              "      <th>4</th>\n",
              "      <td>s5</td>\n",
              "      <td>TV Show</td>\n",
              "      <td>Kota Factory</td>\n",
              "      <td>NaN</td>\n",
              "      <td>Mayur More, Jitendra Kumar, Ranjan Raj, Alam K...</td>\n",
              "      <td>India</td>\n",
              "      <td>September 24, 2021</td>\n",
              "      <td>2021</td>\n",
              "      <td>TV-MA</td>\n",
              "      <td>2 Seasons</td>\n",
              "      <td>International TV Shows, Romantic TV Shows, TV ...</td>\n",
              "      <td>In a city of coaching centers known to train I...</td>\n",
              "    </tr>\n",
              "    <tr>\n",
              "      <th>...</th>\n",
              "      <td>...</td>\n",
              "      <td>...</td>\n",
              "      <td>...</td>\n",
              "      <td>...</td>\n",
              "      <td>...</td>\n",
              "      <td>...</td>\n",
              "      <td>...</td>\n",
              "      <td>...</td>\n",
              "      <td>...</td>\n",
              "      <td>...</td>\n",
              "      <td>...</td>\n",
              "      <td>...</td>\n",
              "    </tr>\n",
              "    <tr>\n",
              "      <th>8802</th>\n",
              "      <td>s8803</td>\n",
              "      <td>Movie</td>\n",
              "      <td>Zodiac</td>\n",
              "      <td>David Fincher</td>\n",
              "      <td>Mark Ruffalo, Jake Gyllenhaal, Robert Downey J...</td>\n",
              "      <td>United States</td>\n",
              "      <td>November 20, 2019</td>\n",
              "      <td>2007</td>\n",
              "      <td>R</td>\n",
              "      <td>158 min</td>\n",
              "      <td>Cult Movies, Dramas, Thrillers</td>\n",
              "      <td>A political cartoonist, a crime reporter and a...</td>\n",
              "    </tr>\n",
              "    <tr>\n",
              "      <th>8803</th>\n",
              "      <td>s8804</td>\n",
              "      <td>TV Show</td>\n",
              "      <td>Zombie Dumb</td>\n",
              "      <td>NaN</td>\n",
              "      <td>NaN</td>\n",
              "      <td>NaN</td>\n",
              "      <td>July 1, 2019</td>\n",
              "      <td>2018</td>\n",
              "      <td>TV-Y7</td>\n",
              "      <td>2 Seasons</td>\n",
              "      <td>Kids' TV, Korean TV Shows, TV Comedies</td>\n",
              "      <td>While living alone in a spooky town, a young g...</td>\n",
              "    </tr>\n",
              "    <tr>\n",
              "      <th>8804</th>\n",
              "      <td>s8805</td>\n",
              "      <td>Movie</td>\n",
              "      <td>Zombieland</td>\n",
              "      <td>Ruben Fleischer</td>\n",
              "      <td>Jesse Eisenberg, Woody Harrelson, Emma Stone, ...</td>\n",
              "      <td>United States</td>\n",
              "      <td>November 1, 2019</td>\n",
              "      <td>2009</td>\n",
              "      <td>R</td>\n",
              "      <td>88 min</td>\n",
              "      <td>Comedies, Horror Movies</td>\n",
              "      <td>Looking to survive in a world taken over by zo...</td>\n",
              "    </tr>\n",
              "    <tr>\n",
              "      <th>8805</th>\n",
              "      <td>s8806</td>\n",
              "      <td>Movie</td>\n",
              "      <td>Zoom</td>\n",
              "      <td>Peter Hewitt</td>\n",
              "      <td>Tim Allen, Courteney Cox, Chevy Chase, Kate Ma...</td>\n",
              "      <td>United States</td>\n",
              "      <td>January 11, 2020</td>\n",
              "      <td>2006</td>\n",
              "      <td>PG</td>\n",
              "      <td>88 min</td>\n",
              "      <td>Children &amp; Family Movies, Comedies</td>\n",
              "      <td>Dragged from civilian life, a former superhero...</td>\n",
              "    </tr>\n",
              "    <tr>\n",
              "      <th>8806</th>\n",
              "      <td>s8807</td>\n",
              "      <td>Movie</td>\n",
              "      <td>Zubaan</td>\n",
              "      <td>Mozez Singh</td>\n",
              "      <td>Vicky Kaushal, Sarah-Jane Dias, Raaghav Chanan...</td>\n",
              "      <td>India</td>\n",
              "      <td>March 2, 2019</td>\n",
              "      <td>2015</td>\n",
              "      <td>TV-14</td>\n",
              "      <td>111 min</td>\n",
              "      <td>Dramas, International Movies, Music &amp; Musicals</td>\n",
              "      <td>A scrappy but poor boy worms his way into a ty...</td>\n",
              "    </tr>\n",
              "  </tbody>\n",
              "</table>\n",
              "<p>8807 rows × 12 columns</p>\n",
              "</div>"
            ],
            "text/plain": [
              "     show_id     type                  title         director  \\\n",
              "0         s1    Movie   Dick Johnson Is Dead  Kirsten Johnson   \n",
              "1         s2  TV Show          Blood & Water              NaN   \n",
              "2         s3  TV Show              Ganglands  Julien Leclercq   \n",
              "3         s4  TV Show  Jailbirds New Orleans              NaN   \n",
              "4         s5  TV Show           Kota Factory              NaN   \n",
              "...      ...      ...                    ...              ...   \n",
              "8802   s8803    Movie                 Zodiac    David Fincher   \n",
              "8803   s8804  TV Show            Zombie Dumb              NaN   \n",
              "8804   s8805    Movie             Zombieland  Ruben Fleischer   \n",
              "8805   s8806    Movie                   Zoom     Peter Hewitt   \n",
              "8806   s8807    Movie                 Zubaan      Mozez Singh   \n",
              "\n",
              "                                                   cast        country  \\\n",
              "0                                                   NaN  United States   \n",
              "1     Ama Qamata, Khosi Ngema, Gail Mabalane, Thaban...   South Africa   \n",
              "2     Sami Bouajila, Tracy Gotoas, Samuel Jouy, Nabi...            NaN   \n",
              "3                                                   NaN            NaN   \n",
              "4     Mayur More, Jitendra Kumar, Ranjan Raj, Alam K...          India   \n",
              "...                                                 ...            ...   \n",
              "8802  Mark Ruffalo, Jake Gyllenhaal, Robert Downey J...  United States   \n",
              "8803                                                NaN            NaN   \n",
              "8804  Jesse Eisenberg, Woody Harrelson, Emma Stone, ...  United States   \n",
              "8805  Tim Allen, Courteney Cox, Chevy Chase, Kate Ma...  United States   \n",
              "8806  Vicky Kaushal, Sarah-Jane Dias, Raaghav Chanan...          India   \n",
              "\n",
              "              date_added  release_year rating   duration  \\\n",
              "0     September 25, 2021          2020  PG-13     90 min   \n",
              "1     September 24, 2021          2021  TV-MA  2 Seasons   \n",
              "2     September 24, 2021          2021  TV-MA   1 Season   \n",
              "3     September 24, 2021          2021  TV-MA   1 Season   \n",
              "4     September 24, 2021          2021  TV-MA  2 Seasons   \n",
              "...                  ...           ...    ...        ...   \n",
              "8802   November 20, 2019          2007      R    158 min   \n",
              "8803        July 1, 2019          2018  TV-Y7  2 Seasons   \n",
              "8804    November 1, 2019          2009      R     88 min   \n",
              "8805    January 11, 2020          2006     PG     88 min   \n",
              "8806       March 2, 2019          2015  TV-14    111 min   \n",
              "\n",
              "                                              listed_in  \\\n",
              "0                                         Documentaries   \n",
              "1       International TV Shows, TV Dramas, TV Mysteries   \n",
              "2     Crime TV Shows, International TV Shows, TV Act...   \n",
              "3                                Docuseries, Reality TV   \n",
              "4     International TV Shows, Romantic TV Shows, TV ...   \n",
              "...                                                 ...   \n",
              "8802                     Cult Movies, Dramas, Thrillers   \n",
              "8803             Kids' TV, Korean TV Shows, TV Comedies   \n",
              "8804                            Comedies, Horror Movies   \n",
              "8805                 Children & Family Movies, Comedies   \n",
              "8806     Dramas, International Movies, Music & Musicals   \n",
              "\n",
              "                                            description  \n",
              "0     As her father nears the end of his life, filmm...  \n",
              "1     After crossing paths at a party, a Cape Town t...  \n",
              "2     To protect his family from a powerful drug lor...  \n",
              "3     Feuds, flirtations and toilet talk go down amo...  \n",
              "4     In a city of coaching centers known to train I...  \n",
              "...                                                 ...  \n",
              "8802  A political cartoonist, a crime reporter and a...  \n",
              "8803  While living alone in a spooky town, a young g...  \n",
              "8804  Looking to survive in a world taken over by zo...  \n",
              "8805  Dragged from civilian life, a former superhero...  \n",
              "8806  A scrappy but poor boy worms his way into a ty...  \n",
              "\n",
              "[8807 rows x 12 columns]"
            ]
          },
          "execution_count": 3,
          "metadata": {},
          "output_type": "execute_result"
        }
      ],
      "source": [
        "netflix"
      ]
    },
    {
      "cell_type": "markdown",
      "id": "4dd1fadc",
      "metadata": {
        "id": "4dd1fadc"
      },
      "source": [
        "# BASIC INFORMATION"
      ]
    },
    {
      "cell_type": "code",
      "execution_count": null,
      "id": "ef224d11",
      "metadata": {
        "id": "ef224d11",
        "outputId": "c80f9d99-0792-44b6-9576-bc13f8349f89"
      },
      "outputs": [
        {
          "data": {
            "text/html": [
              "<div>\n",
              "<style scoped>\n",
              "    .dataframe tbody tr th:only-of-type {\n",
              "        vertical-align: middle;\n",
              "    }\n",
              "\n",
              "    .dataframe tbody tr th {\n",
              "        vertical-align: top;\n",
              "    }\n",
              "\n",
              "    .dataframe thead th {\n",
              "        text-align: right;\n",
              "    }\n",
              "</style>\n",
              "<table border=\"1\" class=\"dataframe\">\n",
              "  <thead>\n",
              "    <tr style=\"text-align: right;\">\n",
              "      <th></th>\n",
              "      <th>show_id</th>\n",
              "      <th>type</th>\n",
              "      <th>title</th>\n",
              "      <th>director</th>\n",
              "      <th>cast</th>\n",
              "      <th>country</th>\n",
              "      <th>date_added</th>\n",
              "      <th>release_year</th>\n",
              "      <th>rating</th>\n",
              "      <th>duration</th>\n",
              "      <th>listed_in</th>\n",
              "      <th>description</th>\n",
              "    </tr>\n",
              "  </thead>\n",
              "  <tbody>\n",
              "    <tr>\n",
              "      <th>0</th>\n",
              "      <td>s1</td>\n",
              "      <td>Movie</td>\n",
              "      <td>Dick Johnson Is Dead</td>\n",
              "      <td>Kirsten Johnson</td>\n",
              "      <td>NaN</td>\n",
              "      <td>United States</td>\n",
              "      <td>September 25, 2021</td>\n",
              "      <td>2020</td>\n",
              "      <td>PG-13</td>\n",
              "      <td>90 min</td>\n",
              "      <td>Documentaries</td>\n",
              "      <td>As her father nears the end of his life, filmm...</td>\n",
              "    </tr>\n",
              "    <tr>\n",
              "      <th>1</th>\n",
              "      <td>s2</td>\n",
              "      <td>TV Show</td>\n",
              "      <td>Blood &amp; Water</td>\n",
              "      <td>NaN</td>\n",
              "      <td>Ama Qamata, Khosi Ngema, Gail Mabalane, Thaban...</td>\n",
              "      <td>South Africa</td>\n",
              "      <td>September 24, 2021</td>\n",
              "      <td>2021</td>\n",
              "      <td>TV-MA</td>\n",
              "      <td>2 Seasons</td>\n",
              "      <td>International TV Shows, TV Dramas, TV Mysteries</td>\n",
              "      <td>After crossing paths at a party, a Cape Town t...</td>\n",
              "    </tr>\n",
              "    <tr>\n",
              "      <th>2</th>\n",
              "      <td>s3</td>\n",
              "      <td>TV Show</td>\n",
              "      <td>Ganglands</td>\n",
              "      <td>Julien Leclercq</td>\n",
              "      <td>Sami Bouajila, Tracy Gotoas, Samuel Jouy, Nabi...</td>\n",
              "      <td>NaN</td>\n",
              "      <td>September 24, 2021</td>\n",
              "      <td>2021</td>\n",
              "      <td>TV-MA</td>\n",
              "      <td>1 Season</td>\n",
              "      <td>Crime TV Shows, International TV Shows, TV Act...</td>\n",
              "      <td>To protect his family from a powerful drug lor...</td>\n",
              "    </tr>\n",
              "    <tr>\n",
              "      <th>3</th>\n",
              "      <td>s4</td>\n",
              "      <td>TV Show</td>\n",
              "      <td>Jailbirds New Orleans</td>\n",
              "      <td>NaN</td>\n",
              "      <td>NaN</td>\n",
              "      <td>NaN</td>\n",
              "      <td>September 24, 2021</td>\n",
              "      <td>2021</td>\n",
              "      <td>TV-MA</td>\n",
              "      <td>1 Season</td>\n",
              "      <td>Docuseries, Reality TV</td>\n",
              "      <td>Feuds, flirtations and toilet talk go down amo...</td>\n",
              "    </tr>\n",
              "    <tr>\n",
              "      <th>4</th>\n",
              "      <td>s5</td>\n",
              "      <td>TV Show</td>\n",
              "      <td>Kota Factory</td>\n",
              "      <td>NaN</td>\n",
              "      <td>Mayur More, Jitendra Kumar, Ranjan Raj, Alam K...</td>\n",
              "      <td>India</td>\n",
              "      <td>September 24, 2021</td>\n",
              "      <td>2021</td>\n",
              "      <td>TV-MA</td>\n",
              "      <td>2 Seasons</td>\n",
              "      <td>International TV Shows, Romantic TV Shows, TV ...</td>\n",
              "      <td>In a city of coaching centers known to train I...</td>\n",
              "    </tr>\n",
              "  </tbody>\n",
              "</table>\n",
              "</div>"
            ],
            "text/plain": [
              "  show_id     type                  title         director  \\\n",
              "0      s1    Movie   Dick Johnson Is Dead  Kirsten Johnson   \n",
              "1      s2  TV Show          Blood & Water              NaN   \n",
              "2      s3  TV Show              Ganglands  Julien Leclercq   \n",
              "3      s4  TV Show  Jailbirds New Orleans              NaN   \n",
              "4      s5  TV Show           Kota Factory              NaN   \n",
              "\n",
              "                                                cast        country  \\\n",
              "0                                                NaN  United States   \n",
              "1  Ama Qamata, Khosi Ngema, Gail Mabalane, Thaban...   South Africa   \n",
              "2  Sami Bouajila, Tracy Gotoas, Samuel Jouy, Nabi...            NaN   \n",
              "3                                                NaN            NaN   \n",
              "4  Mayur More, Jitendra Kumar, Ranjan Raj, Alam K...          India   \n",
              "\n",
              "           date_added  release_year rating   duration  \\\n",
              "0  September 25, 2021          2020  PG-13     90 min   \n",
              "1  September 24, 2021          2021  TV-MA  2 Seasons   \n",
              "2  September 24, 2021          2021  TV-MA   1 Season   \n",
              "3  September 24, 2021          2021  TV-MA   1 Season   \n",
              "4  September 24, 2021          2021  TV-MA  2 Seasons   \n",
              "\n",
              "                                           listed_in  \\\n",
              "0                                      Documentaries   \n",
              "1    International TV Shows, TV Dramas, TV Mysteries   \n",
              "2  Crime TV Shows, International TV Shows, TV Act...   \n",
              "3                             Docuseries, Reality TV   \n",
              "4  International TV Shows, Romantic TV Shows, TV ...   \n",
              "\n",
              "                                         description  \n",
              "0  As her father nears the end of his life, filmm...  \n",
              "1  After crossing paths at a party, a Cape Town t...  \n",
              "2  To protect his family from a powerful drug lor...  \n",
              "3  Feuds, flirtations and toilet talk go down amo...  \n",
              "4  In a city of coaching centers known to train I...  "
            ]
          },
          "execution_count": 4,
          "metadata": {},
          "output_type": "execute_result"
        }
      ],
      "source": [
        "#Top 5 rows\n",
        "netflix.head()"
      ]
    },
    {
      "cell_type": "code",
      "execution_count": null,
      "id": "8195c240",
      "metadata": {
        "id": "8195c240",
        "outputId": "ee8e880b-240c-4d80-84f5-6d4d0811f636"
      },
      "outputs": [
        {
          "data": {
            "text/html": [
              "<div>\n",
              "<style scoped>\n",
              "    .dataframe tbody tr th:only-of-type {\n",
              "        vertical-align: middle;\n",
              "    }\n",
              "\n",
              "    .dataframe tbody tr th {\n",
              "        vertical-align: top;\n",
              "    }\n",
              "\n",
              "    .dataframe thead th {\n",
              "        text-align: right;\n",
              "    }\n",
              "</style>\n",
              "<table border=\"1\" class=\"dataframe\">\n",
              "  <thead>\n",
              "    <tr style=\"text-align: right;\">\n",
              "      <th></th>\n",
              "      <th>show_id</th>\n",
              "      <th>type</th>\n",
              "      <th>title</th>\n",
              "      <th>director</th>\n",
              "      <th>cast</th>\n",
              "      <th>country</th>\n",
              "      <th>date_added</th>\n",
              "      <th>release_year</th>\n",
              "      <th>rating</th>\n",
              "      <th>duration</th>\n",
              "      <th>listed_in</th>\n",
              "      <th>description</th>\n",
              "    </tr>\n",
              "  </thead>\n",
              "  <tbody>\n",
              "    <tr>\n",
              "      <th>8802</th>\n",
              "      <td>s8803</td>\n",
              "      <td>Movie</td>\n",
              "      <td>Zodiac</td>\n",
              "      <td>David Fincher</td>\n",
              "      <td>Mark Ruffalo, Jake Gyllenhaal, Robert Downey J...</td>\n",
              "      <td>United States</td>\n",
              "      <td>November 20, 2019</td>\n",
              "      <td>2007</td>\n",
              "      <td>R</td>\n",
              "      <td>158 min</td>\n",
              "      <td>Cult Movies, Dramas, Thrillers</td>\n",
              "      <td>A political cartoonist, a crime reporter and a...</td>\n",
              "    </tr>\n",
              "    <tr>\n",
              "      <th>8803</th>\n",
              "      <td>s8804</td>\n",
              "      <td>TV Show</td>\n",
              "      <td>Zombie Dumb</td>\n",
              "      <td>NaN</td>\n",
              "      <td>NaN</td>\n",
              "      <td>NaN</td>\n",
              "      <td>July 1, 2019</td>\n",
              "      <td>2018</td>\n",
              "      <td>TV-Y7</td>\n",
              "      <td>2 Seasons</td>\n",
              "      <td>Kids' TV, Korean TV Shows, TV Comedies</td>\n",
              "      <td>While living alone in a spooky town, a young g...</td>\n",
              "    </tr>\n",
              "    <tr>\n",
              "      <th>8804</th>\n",
              "      <td>s8805</td>\n",
              "      <td>Movie</td>\n",
              "      <td>Zombieland</td>\n",
              "      <td>Ruben Fleischer</td>\n",
              "      <td>Jesse Eisenberg, Woody Harrelson, Emma Stone, ...</td>\n",
              "      <td>United States</td>\n",
              "      <td>November 1, 2019</td>\n",
              "      <td>2009</td>\n",
              "      <td>R</td>\n",
              "      <td>88 min</td>\n",
              "      <td>Comedies, Horror Movies</td>\n",
              "      <td>Looking to survive in a world taken over by zo...</td>\n",
              "    </tr>\n",
              "    <tr>\n",
              "      <th>8805</th>\n",
              "      <td>s8806</td>\n",
              "      <td>Movie</td>\n",
              "      <td>Zoom</td>\n",
              "      <td>Peter Hewitt</td>\n",
              "      <td>Tim Allen, Courteney Cox, Chevy Chase, Kate Ma...</td>\n",
              "      <td>United States</td>\n",
              "      <td>January 11, 2020</td>\n",
              "      <td>2006</td>\n",
              "      <td>PG</td>\n",
              "      <td>88 min</td>\n",
              "      <td>Children &amp; Family Movies, Comedies</td>\n",
              "      <td>Dragged from civilian life, a former superhero...</td>\n",
              "    </tr>\n",
              "    <tr>\n",
              "      <th>8806</th>\n",
              "      <td>s8807</td>\n",
              "      <td>Movie</td>\n",
              "      <td>Zubaan</td>\n",
              "      <td>Mozez Singh</td>\n",
              "      <td>Vicky Kaushal, Sarah-Jane Dias, Raaghav Chanan...</td>\n",
              "      <td>India</td>\n",
              "      <td>March 2, 2019</td>\n",
              "      <td>2015</td>\n",
              "      <td>TV-14</td>\n",
              "      <td>111 min</td>\n",
              "      <td>Dramas, International Movies, Music &amp; Musicals</td>\n",
              "      <td>A scrappy but poor boy worms his way into a ty...</td>\n",
              "    </tr>\n",
              "  </tbody>\n",
              "</table>\n",
              "</div>"
            ],
            "text/plain": [
              "     show_id     type        title         director  \\\n",
              "8802   s8803    Movie       Zodiac    David Fincher   \n",
              "8803   s8804  TV Show  Zombie Dumb              NaN   \n",
              "8804   s8805    Movie   Zombieland  Ruben Fleischer   \n",
              "8805   s8806    Movie         Zoom     Peter Hewitt   \n",
              "8806   s8807    Movie       Zubaan      Mozez Singh   \n",
              "\n",
              "                                                   cast        country  \\\n",
              "8802  Mark Ruffalo, Jake Gyllenhaal, Robert Downey J...  United States   \n",
              "8803                                                NaN            NaN   \n",
              "8804  Jesse Eisenberg, Woody Harrelson, Emma Stone, ...  United States   \n",
              "8805  Tim Allen, Courteney Cox, Chevy Chase, Kate Ma...  United States   \n",
              "8806  Vicky Kaushal, Sarah-Jane Dias, Raaghav Chanan...          India   \n",
              "\n",
              "             date_added  release_year rating   duration  \\\n",
              "8802  November 20, 2019          2007      R    158 min   \n",
              "8803       July 1, 2019          2018  TV-Y7  2 Seasons   \n",
              "8804   November 1, 2019          2009      R     88 min   \n",
              "8805   January 11, 2020          2006     PG     88 min   \n",
              "8806      March 2, 2019          2015  TV-14    111 min   \n",
              "\n",
              "                                           listed_in  \\\n",
              "8802                  Cult Movies, Dramas, Thrillers   \n",
              "8803          Kids' TV, Korean TV Shows, TV Comedies   \n",
              "8804                         Comedies, Horror Movies   \n",
              "8805              Children & Family Movies, Comedies   \n",
              "8806  Dramas, International Movies, Music & Musicals   \n",
              "\n",
              "                                            description  \n",
              "8802  A political cartoonist, a crime reporter and a...  \n",
              "8803  While living alone in a spooky town, a young g...  \n",
              "8804  Looking to survive in a world taken over by zo...  \n",
              "8805  Dragged from civilian life, a former superhero...  \n",
              "8806  A scrappy but poor boy worms his way into a ty...  "
            ]
          },
          "execution_count": 5,
          "metadata": {},
          "output_type": "execute_result"
        }
      ],
      "source": [
        "#Last 10 rows\n",
        "netflix.tail(5)\n",
        "#Data is correctly inserted"
      ]
    },
    {
      "cell_type": "code",
      "execution_count": null,
      "id": "4b5d2c6b",
      "metadata": {
        "id": "4b5d2c6b",
        "outputId": "dcce4500-d1ec-42b5-c434-6885520af593"
      },
      "outputs": [
        {
          "data": {
            "text/plain": [
              "show_id         object\n",
              "type            object\n",
              "title           object\n",
              "director        object\n",
              "cast            object\n",
              "country         object\n",
              "date_added      object\n",
              "release_year     int64\n",
              "rating          object\n",
              "duration        object\n",
              "listed_in       object\n",
              "description     object\n",
              "dtype: object"
            ]
          },
          "execution_count": 6,
          "metadata": {},
          "output_type": "execute_result"
        }
      ],
      "source": [
        "netflix.dtypes\n",
        "#Except Release year all other are in object dtypes"
      ]
    },
    {
      "cell_type": "code",
      "execution_count": null,
      "id": "c85044f7",
      "metadata": {
        "id": "c85044f7",
        "outputId": "8ecf8a9d-b618-4e4c-ac59-b58b87e5a4e6"
      },
      "outputs": [
        {
          "name": "stdout",
          "output_type": "stream",
          "text": [
            "<class 'pandas.core.frame.DataFrame'>\n",
            "RangeIndex: 8807 entries, 0 to 8806\n",
            "Data columns (total 12 columns):\n",
            " #   Column        Non-Null Count  Dtype \n",
            "---  ------        --------------  ----- \n",
            " 0   show_id       8807 non-null   object\n",
            " 1   type          8807 non-null   object\n",
            " 2   title         8807 non-null   object\n",
            " 3   director      6173 non-null   object\n",
            " 4   cast          7982 non-null   object\n",
            " 5   country       7976 non-null   object\n",
            " 6   date_added    8797 non-null   object\n",
            " 7   release_year  8807 non-null   int64 \n",
            " 8   rating        8803 non-null   object\n",
            " 9   duration      8804 non-null   object\n",
            " 10  listed_in     8807 non-null   object\n",
            " 11  description   8807 non-null   object\n",
            "dtypes: int64(1), object(11)\n",
            "memory usage: 825.8+ KB\n"
          ]
        }
      ],
      "source": [
        "netflix.info()\n",
        "#THere are null data and all are object dtype"
      ]
    },
    {
      "cell_type": "code",
      "execution_count": null,
      "id": "561fa4e0",
      "metadata": {
        "id": "561fa4e0",
        "outputId": "f6fc187b-8253-4e26-ac2c-decad7a7cfea"
      },
      "outputs": [
        {
          "data": {
            "text/plain": [
              "director        2634\n",
              "country          831\n",
              "cast             825\n",
              "date_added        10\n",
              "rating             4\n",
              "duration           3\n",
              "show_id            0\n",
              "type               0\n",
              "title              0\n",
              "release_year       0\n",
              "listed_in          0\n",
              "description        0\n",
              "dtype: int64"
            ]
          },
          "execution_count": 8,
          "metadata": {},
          "output_type": "execute_result"
        }
      ],
      "source": [
        "netflix.isna().sum().sort_values(ascending = False)\n",
        "#Director has the most null values followed by country and cast\n",
        "#Out of 8807 values director has the highest null values 2634 followed by country and cast with null values of 831 and 825.\n"
      ]
    },
    {
      "cell_type": "code",
      "execution_count": null,
      "id": "bc2be450",
      "metadata": {
        "id": "bc2be450",
        "outputId": "e191012b-c873-4e2d-d93d-a73314809710"
      },
      "outputs": [
        {
          "data": {
            "text/plain": [
              "(8807, 12)"
            ]
          },
          "execution_count": 9,
          "metadata": {},
          "output_type": "execute_result"
        }
      ],
      "source": [
        "netflix.shape\n",
        "#8807 rows and 12 columns"
      ]
    },
    {
      "cell_type": "code",
      "execution_count": null,
      "id": "85edd7ef",
      "metadata": {
        "id": "85edd7ef",
        "outputId": "b8b9b173-8be9-4da4-bbb6-d899cbabf321"
      },
      "outputs": [
        {
          "data": {
            "text/plain": [
              "4307"
            ]
          },
          "execution_count": 10,
          "metadata": {},
          "output_type": "execute_result"
        }
      ],
      "source": [
        "netflix.isna().sum().sum()\n",
        "#Total null values in entire netflix dataframe"
      ]
    },
    {
      "cell_type": "code",
      "execution_count": null,
      "id": "70b26f6e",
      "metadata": {
        "id": "70b26f6e",
        "outputId": "d9f12f66-e67a-4ed7-8006-ac788b13b29b"
      },
      "outputs": [
        {
          "data": {
            "text/html": [
              "<div>\n",
              "<style scoped>\n",
              "    .dataframe tbody tr th:only-of-type {\n",
              "        vertical-align: middle;\n",
              "    }\n",
              "\n",
              "    .dataframe tbody tr th {\n",
              "        vertical-align: top;\n",
              "    }\n",
              "\n",
              "    .dataframe thead th {\n",
              "        text-align: right;\n",
              "    }\n",
              "</style>\n",
              "<table border=\"1\" class=\"dataframe\">\n",
              "  <thead>\n",
              "    <tr style=\"text-align: right;\">\n",
              "      <th></th>\n",
              "      <th>count</th>\n",
              "      <th>unique</th>\n",
              "      <th>top</th>\n",
              "      <th>freq</th>\n",
              "    </tr>\n",
              "  </thead>\n",
              "  <tbody>\n",
              "    <tr>\n",
              "      <th>show_id</th>\n",
              "      <td>8807</td>\n",
              "      <td>8807</td>\n",
              "      <td>s1</td>\n",
              "      <td>1</td>\n",
              "    </tr>\n",
              "    <tr>\n",
              "      <th>type</th>\n",
              "      <td>8807</td>\n",
              "      <td>2</td>\n",
              "      <td>Movie</td>\n",
              "      <td>6131</td>\n",
              "    </tr>\n",
              "    <tr>\n",
              "      <th>title</th>\n",
              "      <td>8807</td>\n",
              "      <td>8807</td>\n",
              "      <td>Dick Johnson Is Dead</td>\n",
              "      <td>1</td>\n",
              "    </tr>\n",
              "    <tr>\n",
              "      <th>director</th>\n",
              "      <td>6173</td>\n",
              "      <td>4528</td>\n",
              "      <td>Rajiv Chilaka</td>\n",
              "      <td>19</td>\n",
              "    </tr>\n",
              "    <tr>\n",
              "      <th>cast</th>\n",
              "      <td>7982</td>\n",
              "      <td>7692</td>\n",
              "      <td>David Attenborough</td>\n",
              "      <td>19</td>\n",
              "    </tr>\n",
              "    <tr>\n",
              "      <th>country</th>\n",
              "      <td>7976</td>\n",
              "      <td>748</td>\n",
              "      <td>United States</td>\n",
              "      <td>2818</td>\n",
              "    </tr>\n",
              "    <tr>\n",
              "      <th>date_added</th>\n",
              "      <td>8797</td>\n",
              "      <td>1767</td>\n",
              "      <td>January 1, 2020</td>\n",
              "      <td>109</td>\n",
              "    </tr>\n",
              "    <tr>\n",
              "      <th>rating</th>\n",
              "      <td>8803</td>\n",
              "      <td>17</td>\n",
              "      <td>TV-MA</td>\n",
              "      <td>3207</td>\n",
              "    </tr>\n",
              "    <tr>\n",
              "      <th>duration</th>\n",
              "      <td>8804</td>\n",
              "      <td>220</td>\n",
              "      <td>1 Season</td>\n",
              "      <td>1793</td>\n",
              "    </tr>\n",
              "    <tr>\n",
              "      <th>listed_in</th>\n",
              "      <td>8807</td>\n",
              "      <td>514</td>\n",
              "      <td>Dramas, International Movies</td>\n",
              "      <td>362</td>\n",
              "    </tr>\n",
              "    <tr>\n",
              "      <th>description</th>\n",
              "      <td>8807</td>\n",
              "      <td>8775</td>\n",
              "      <td>Paranormal activity at a lush, abandoned prope...</td>\n",
              "      <td>4</td>\n",
              "    </tr>\n",
              "  </tbody>\n",
              "</table>\n",
              "</div>"
            ],
            "text/plain": [
              "            count unique                                                top  \\\n",
              "show_id      8807   8807                                                 s1   \n",
              "type         8807      2                                              Movie   \n",
              "title        8807   8807                               Dick Johnson Is Dead   \n",
              "director     6173   4528                                      Rajiv Chilaka   \n",
              "cast         7982   7692                                 David Attenborough   \n",
              "country      7976    748                                      United States   \n",
              "date_added   8797   1767                                    January 1, 2020   \n",
              "rating       8803     17                                              TV-MA   \n",
              "duration     8804    220                                           1 Season   \n",
              "listed_in    8807    514                       Dramas, International Movies   \n",
              "description  8807   8775  Paranormal activity at a lush, abandoned prope...   \n",
              "\n",
              "             freq  \n",
              "show_id         1  \n",
              "type         6131  \n",
              "title           1  \n",
              "director       19  \n",
              "cast           19  \n",
              "country      2818  \n",
              "date_added    109  \n",
              "rating       3207  \n",
              "duration     1793  \n",
              "listed_in     362  \n",
              "description     4  "
            ]
          },
          "execution_count": 11,
          "metadata": {},
          "output_type": "execute_result"
        }
      ],
      "source": [
        "netflix.describe(include = 'object').T #Transpose\n"
      ]
    },
    {
      "cell_type": "code",
      "execution_count": null,
      "id": "35b2f086",
      "metadata": {
        "id": "35b2f086",
        "outputId": "976cccd2-1248-4600-dba5-65e8bc48c414"
      },
      "outputs": [
        {
          "data": {
            "text/html": [
              "<div>\n",
              "<style scoped>\n",
              "    .dataframe tbody tr th:only-of-type {\n",
              "        vertical-align: middle;\n",
              "    }\n",
              "\n",
              "    .dataframe tbody tr th {\n",
              "        vertical-align: top;\n",
              "    }\n",
              "\n",
              "    .dataframe thead th {\n",
              "        text-align: right;\n",
              "    }\n",
              "</style>\n",
              "<table border=\"1\" class=\"dataframe\">\n",
              "  <thead>\n",
              "    <tr style=\"text-align: right;\">\n",
              "      <th></th>\n",
              "      <th>show_id</th>\n",
              "      <th>type</th>\n",
              "      <th>title</th>\n",
              "      <th>director</th>\n",
              "      <th>cast</th>\n",
              "      <th>country</th>\n",
              "      <th>date_added</th>\n",
              "      <th>release_year</th>\n",
              "      <th>rating</th>\n",
              "      <th>duration</th>\n",
              "      <th>listed_in</th>\n",
              "      <th>description</th>\n",
              "    </tr>\n",
              "  </thead>\n",
              "  <tbody>\n",
              "    <tr>\n",
              "      <th>0</th>\n",
              "      <td>s1</td>\n",
              "      <td>Movie</td>\n",
              "      <td>Dick Johnson Is Dead</td>\n",
              "      <td>Kirsten Johnson</td>\n",
              "      <td>NaN</td>\n",
              "      <td>United States</td>\n",
              "      <td>September 25, 2021</td>\n",
              "      <td>2020</td>\n",
              "      <td>PG-13</td>\n",
              "      <td>90 min</td>\n",
              "      <td>Documentaries</td>\n",
              "      <td>As her father nears the end of his life, filmm...</td>\n",
              "    </tr>\n",
              "    <tr>\n",
              "      <th>1</th>\n",
              "      <td>s2</td>\n",
              "      <td>TV Show</td>\n",
              "      <td>Blood &amp; Water</td>\n",
              "      <td>NaN</td>\n",
              "      <td>Ama Qamata, Khosi Ngema, Gail Mabalane, Thaban...</td>\n",
              "      <td>South Africa</td>\n",
              "      <td>September 24, 2021</td>\n",
              "      <td>2021</td>\n",
              "      <td>TV-MA</td>\n",
              "      <td>2 Seasons</td>\n",
              "      <td>International TV Shows, TV Dramas, TV Mysteries</td>\n",
              "      <td>After crossing paths at a party, a Cape Town t...</td>\n",
              "    </tr>\n",
              "    <tr>\n",
              "      <th>2</th>\n",
              "      <td>s3</td>\n",
              "      <td>TV Show</td>\n",
              "      <td>Ganglands</td>\n",
              "      <td>Julien Leclercq</td>\n",
              "      <td>Sami Bouajila, Tracy Gotoas, Samuel Jouy, Nabi...</td>\n",
              "      <td>NaN</td>\n",
              "      <td>September 24, 2021</td>\n",
              "      <td>2021</td>\n",
              "      <td>TV-MA</td>\n",
              "      <td>1 Season</td>\n",
              "      <td>Crime TV Shows, International TV Shows, TV Act...</td>\n",
              "      <td>To protect his family from a powerful drug lor...</td>\n",
              "    </tr>\n",
              "    <tr>\n",
              "      <th>3</th>\n",
              "      <td>s4</td>\n",
              "      <td>TV Show</td>\n",
              "      <td>Jailbirds New Orleans</td>\n",
              "      <td>NaN</td>\n",
              "      <td>NaN</td>\n",
              "      <td>NaN</td>\n",
              "      <td>September 24, 2021</td>\n",
              "      <td>2021</td>\n",
              "      <td>TV-MA</td>\n",
              "      <td>1 Season</td>\n",
              "      <td>Docuseries, Reality TV</td>\n",
              "      <td>Feuds, flirtations and toilet talk go down amo...</td>\n",
              "    </tr>\n",
              "    <tr>\n",
              "      <th>4</th>\n",
              "      <td>s5</td>\n",
              "      <td>TV Show</td>\n",
              "      <td>Kota Factory</td>\n",
              "      <td>NaN</td>\n",
              "      <td>Mayur More, Jitendra Kumar, Ranjan Raj, Alam K...</td>\n",
              "      <td>India</td>\n",
              "      <td>September 24, 2021</td>\n",
              "      <td>2021</td>\n",
              "      <td>TV-MA</td>\n",
              "      <td>2 Seasons</td>\n",
              "      <td>International TV Shows, Romantic TV Shows, TV ...</td>\n",
              "      <td>In a city of coaching centers known to train I...</td>\n",
              "    </tr>\n",
              "  </tbody>\n",
              "</table>\n",
              "</div>"
            ],
            "text/plain": [
              "  show_id     type                  title         director  \\\n",
              "0      s1    Movie   Dick Johnson Is Dead  Kirsten Johnson   \n",
              "1      s2  TV Show          Blood & Water              NaN   \n",
              "2      s3  TV Show              Ganglands  Julien Leclercq   \n",
              "3      s4  TV Show  Jailbirds New Orleans              NaN   \n",
              "4      s5  TV Show           Kota Factory              NaN   \n",
              "\n",
              "                                                cast        country  \\\n",
              "0                                                NaN  United States   \n",
              "1  Ama Qamata, Khosi Ngema, Gail Mabalane, Thaban...   South Africa   \n",
              "2  Sami Bouajila, Tracy Gotoas, Samuel Jouy, Nabi...            NaN   \n",
              "3                                                NaN            NaN   \n",
              "4  Mayur More, Jitendra Kumar, Ranjan Raj, Alam K...          India   \n",
              "\n",
              "           date_added  release_year rating   duration  \\\n",
              "0  September 25, 2021          2020  PG-13     90 min   \n",
              "1  September 24, 2021          2021  TV-MA  2 Seasons   \n",
              "2  September 24, 2021          2021  TV-MA   1 Season   \n",
              "3  September 24, 2021          2021  TV-MA   1 Season   \n",
              "4  September 24, 2021          2021  TV-MA  2 Seasons   \n",
              "\n",
              "                                           listed_in  \\\n",
              "0                                      Documentaries   \n",
              "1    International TV Shows, TV Dramas, TV Mysteries   \n",
              "2  Crime TV Shows, International TV Shows, TV Act...   \n",
              "3                             Docuseries, Reality TV   \n",
              "4  International TV Shows, Romantic TV Shows, TV ...   \n",
              "\n",
              "                                         description  \n",
              "0  As her father nears the end of his life, filmm...  \n",
              "1  After crossing paths at a party, a Cape Town t...  \n",
              "2  To protect his family from a powerful drug lor...  \n",
              "3  Feuds, flirtations and toilet talk go down amo...  \n",
              "4  In a city of coaching centers known to train I...  "
            ]
          },
          "execution_count": 12,
          "metadata": {},
          "output_type": "execute_result"
        }
      ],
      "source": [
        "netflix.head()"
      ]
    },
    {
      "cell_type": "markdown",
      "id": "5b0a3cd1",
      "metadata": {
        "id": "5b0a3cd1"
      },
      "source": [
        "# HANDLING MISSING VALUES"
      ]
    },
    {
      "cell_type": "code",
      "execution_count": null,
      "id": "e3e95146",
      "metadata": {
        "id": "e3e95146"
      },
      "outputs": [],
      "source": [
        "netflix.director.fillna('No Director', inplace = True)\n",
        "netflix.country.fillna('No Country', inplace = True)\n",
        "netflix.date_added.fillna('No date available', inplace = True)\n",
        "netflix.cast.fillna('No Cast', inplace = True)\n"
      ]
    },
    {
      "cell_type": "code",
      "execution_count": null,
      "id": "a8e5dbb0",
      "metadata": {
        "id": "a8e5dbb0",
        "outputId": "38418633-4929-441e-ee10-d5b3facffccd"
      },
      "outputs": [
        {
          "data": {
            "text/plain": [
              "show_id         0\n",
              "type            0\n",
              "title           0\n",
              "director        0\n",
              "cast            0\n",
              "country         0\n",
              "date_added      0\n",
              "release_year    0\n",
              "rating          4\n",
              "duration        3\n",
              "listed_in       0\n",
              "description     0\n",
              "dtype: int64"
            ]
          },
          "execution_count": 14,
          "metadata": {},
          "output_type": "execute_result"
        }
      ],
      "source": [
        "netflix.isna().sum()"
      ]
    },
    {
      "cell_type": "code",
      "execution_count": null,
      "id": "a6dc249c",
      "metadata": {
        "id": "a6dc249c",
        "outputId": "b2cec230-8cce-480f-85f8-fa88d097f3b6"
      },
      "outputs": [
        {
          "name": "stdout",
          "output_type": "stream",
          "text": [
            "<class 'pandas.core.frame.DataFrame'>\n",
            "RangeIndex: 8807 entries, 0 to 8806\n",
            "Data columns (total 12 columns):\n",
            " #   Column        Non-Null Count  Dtype \n",
            "---  ------        --------------  ----- \n",
            " 0   show_id       8807 non-null   object\n",
            " 1   type          8807 non-null   object\n",
            " 2   title         8807 non-null   object\n",
            " 3   director      8807 non-null   object\n",
            " 4   cast          8807 non-null   object\n",
            " 5   country       8807 non-null   object\n",
            " 6   date_added    8807 non-null   object\n",
            " 7   release_year  8807 non-null   int64 \n",
            " 8   rating        8803 non-null   object\n",
            " 9   duration      8804 non-null   object\n",
            " 10  listed_in     8807 non-null   object\n",
            " 11  description   8807 non-null   object\n",
            "dtypes: int64(1), object(11)\n",
            "memory usage: 825.8+ KB\n"
          ]
        }
      ],
      "source": [
        "netflix.info()"
      ]
    },
    {
      "cell_type": "markdown",
      "id": "c2d8bfa6",
      "metadata": {
        "id": "c2d8bfa6"
      },
      "source": [
        "# Conversion of date_added (object dtype) to datetime dtype"
      ]
    },
    {
      "cell_type": "code",
      "execution_count": null,
      "id": "77b91a35",
      "metadata": {
        "id": "77b91a35"
      },
      "outputs": [],
      "source": [
        "netflix['date_add'] = pd.to_datetime(netflix['date_added'], errors = 'coerce')\n",
        "netflix['month'] = netflix['date_add'].dt.month\n",
        "netflix['year'] = netflix['date_add'].dt.year"
      ]
    },
    {
      "cell_type": "markdown",
      "id": "31d51ddc",
      "metadata": {
        "id": "31d51ddc"
      },
      "source": [
        "# Un-Nesting of Columns"
      ]
    },
    {
      "cell_type": "code",
      "execution_count": null,
      "id": "43fe9bf8",
      "metadata": {
        "id": "43fe9bf8"
      },
      "outputs": [],
      "source": [
        "netflix['cast'] = netflix['cast'].apply(lambda x: str(x).split(\", \")).tolist()\n",
        "netflix['director'] = netflix['director'].apply(lambda x: str(x).split(\", \")).tolist()\n",
        "netflix['listed_in'] = netflix['listed_in'].apply(lambda x: str(x).split(\", \")).tolist()\n"
      ]
    },
    {
      "cell_type": "code",
      "execution_count": null,
      "id": "547277a6",
      "metadata": {
        "id": "547277a6"
      },
      "outputs": [],
      "source": [
        "explode_cast = netflix.explode('cast')\n",
        "explode_cast = explode_cast[explode_cast['cast']!='No Cast']\n",
        "explode_director = netflix.explode('director')\n",
        "explode_director = explode_director[explode_director['director']!='No Director']\n",
        "explode_listedin = netflix.explode('listed_in')\n",
        "\n"
      ]
    },
    {
      "cell_type": "code",
      "execution_count": null,
      "id": "7d8486b8",
      "metadata": {
        "id": "7d8486b8"
      },
      "outputs": [],
      "source": [
        "#Merging all the un-nested columns\n",
        "cast_data = explode_cast.loc[:, ['title', 'cast']]\n",
        "director_data = explode_director.loc[:, ['title', 'director']]\n",
        "listedin_data = explode_listedin.loc[:, ['title', 'listed_in']]\n",
        "\n",
        "df_1 = cast_data.merge(director_data, on = 'title', how = 'inner')\n",
        "\n",
        "df_data = df_1.merge(listedin_data, on = 'title', how = 'inner')"
      ]
    },
    {
      "cell_type": "code",
      "execution_count": null,
      "id": "ec024c5a",
      "metadata": {
        "id": "ec024c5a",
        "outputId": "135dcda6-3106-4a24-c513-e84e0d0c8032"
      },
      "outputs": [
        {
          "data": {
            "text/plain": [
              "Dramas                          21958\n",
              "International Movies            21921\n",
              "Comedies                        16995\n",
              "Action & Adventure               8773\n",
              "Independent Movies               7112\n",
              "Children & Family Movies         6774\n",
              "Romantic Movies                  5406\n",
              "Thrillers                        5074\n",
              "Horror Movies                    3476\n",
              "Sci-Fi & Fantasy                 2564\n",
              "Music & Musicals                 2557\n",
              "International TV Shows           1481\n",
              "Documentaries                    1335\n",
              "Sports Movies                    1200\n",
              "Classic Movies                   1078\n",
              "TV Dramas                        1034\n",
              "Anime Features                    916\n",
              "Cult Movies                       780\n",
              "LGBTQ Movies                      696\n",
              "Crime TV Shows                    556\n",
              "Faith & Spirituality              526\n",
              "Stand-Up Comedy                   475\n",
              "TV Comedies                       388\n",
              "TV Shows                          326\n",
              "Romantic TV Shows                 298\n",
              "Movies                            272\n",
              "TV Action & Adventure             232\n",
              "TV Mysteries                      201\n",
              "British TV Shows                  179\n",
              "Spanish-Language TV Shows         146\n",
              "Kids' TV                          135\n",
              "TV Horror                         119\n",
              "Anime Series                      113\n",
              "Korean TV Shows                   101\n",
              "Docuseries                         87\n",
              "TV Thrillers                       78\n",
              "TV Sci-Fi & Fantasy                62\n",
              "Teen TV Shows                      48\n",
              "Stand-Up Comedy & Talk Shows       31\n",
              "Classic & Cult TV                  29\n",
              "Reality TV                          7\n",
              "Science & Nature TV                 7\n",
              "Name: listed_in, dtype: int64"
            ]
          },
          "execution_count": 20,
          "metadata": {},
          "output_type": "execute_result"
        }
      ],
      "source": [
        "df_data['listed_in'].value_counts()"
      ]
    },
    {
      "cell_type": "markdown",
      "id": "42e6314e",
      "metadata": {
        "id": "42e6314e"
      },
      "source": [
        "## 1. MOVIES vs TV Shows"
      ]
    },
    {
      "cell_type": "code",
      "execution_count": null,
      "id": "f79fdae3",
      "metadata": {
        "id": "f79fdae3",
        "outputId": "4642b8c6-77a1-405e-f351-c1b5099fcb69"
      },
      "outputs": [
        {
          "data": {
            "text/html": [
              "<div>\n",
              "<style scoped>\n",
              "    .dataframe tbody tr th:only-of-type {\n",
              "        vertical-align: middle;\n",
              "    }\n",
              "\n",
              "    .dataframe tbody tr th {\n",
              "        vertical-align: top;\n",
              "    }\n",
              "\n",
              "    .dataframe thead th {\n",
              "        text-align: right;\n",
              "    }\n",
              "</style>\n",
              "<table border=\"1\" class=\"dataframe\">\n",
              "  <thead>\n",
              "    <tr style=\"text-align: right;\">\n",
              "      <th></th>\n",
              "      <th>show_id</th>\n",
              "      <th>type</th>\n",
              "      <th>title</th>\n",
              "      <th>director</th>\n",
              "      <th>cast</th>\n",
              "      <th>country</th>\n",
              "      <th>date_added</th>\n",
              "      <th>release_year</th>\n",
              "      <th>rating</th>\n",
              "      <th>duration</th>\n",
              "      <th>listed_in</th>\n",
              "      <th>description</th>\n",
              "      <th>date_add</th>\n",
              "      <th>month</th>\n",
              "      <th>year</th>\n",
              "    </tr>\n",
              "  </thead>\n",
              "  <tbody>\n",
              "    <tr>\n",
              "      <th>0</th>\n",
              "      <td>s1</td>\n",
              "      <td>Movie</td>\n",
              "      <td>Dick Johnson Is Dead</td>\n",
              "      <td>[Kirsten Johnson]</td>\n",
              "      <td>[No Cast]</td>\n",
              "      <td>United States</td>\n",
              "      <td>September 25, 2021</td>\n",
              "      <td>2020</td>\n",
              "      <td>PG-13</td>\n",
              "      <td>90 min</td>\n",
              "      <td>[Documentaries]</td>\n",
              "      <td>As her father nears the end of his life, filmm...</td>\n",
              "      <td>2021-09-25</td>\n",
              "      <td>9.0</td>\n",
              "      <td>2021.0</td>\n",
              "    </tr>\n",
              "    <tr>\n",
              "      <th>1</th>\n",
              "      <td>s2</td>\n",
              "      <td>TV Show</td>\n",
              "      <td>Blood &amp; Water</td>\n",
              "      <td>[No Director]</td>\n",
              "      <td>[Ama Qamata, Khosi Ngema, Gail Mabalane, Thaba...</td>\n",
              "      <td>South Africa</td>\n",
              "      <td>September 24, 2021</td>\n",
              "      <td>2021</td>\n",
              "      <td>TV-MA</td>\n",
              "      <td>2 Seasons</td>\n",
              "      <td>[International TV Shows, TV Dramas, TV Mysteries]</td>\n",
              "      <td>After crossing paths at a party, a Cape Town t...</td>\n",
              "      <td>2021-09-24</td>\n",
              "      <td>9.0</td>\n",
              "      <td>2021.0</td>\n",
              "    </tr>\n",
              "    <tr>\n",
              "      <th>2</th>\n",
              "      <td>s3</td>\n",
              "      <td>TV Show</td>\n",
              "      <td>Ganglands</td>\n",
              "      <td>[Julien Leclercq]</td>\n",
              "      <td>[Sami Bouajila, Tracy Gotoas, Samuel Jouy, Nab...</td>\n",
              "      <td>No Country</td>\n",
              "      <td>September 24, 2021</td>\n",
              "      <td>2021</td>\n",
              "      <td>TV-MA</td>\n",
              "      <td>1 Season</td>\n",
              "      <td>[Crime TV Shows, International TV Shows, TV Ac...</td>\n",
              "      <td>To protect his family from a powerful drug lor...</td>\n",
              "      <td>2021-09-24</td>\n",
              "      <td>9.0</td>\n",
              "      <td>2021.0</td>\n",
              "    </tr>\n",
              "    <tr>\n",
              "      <th>3</th>\n",
              "      <td>s4</td>\n",
              "      <td>TV Show</td>\n",
              "      <td>Jailbirds New Orleans</td>\n",
              "      <td>[No Director]</td>\n",
              "      <td>[No Cast]</td>\n",
              "      <td>No Country</td>\n",
              "      <td>September 24, 2021</td>\n",
              "      <td>2021</td>\n",
              "      <td>TV-MA</td>\n",
              "      <td>1 Season</td>\n",
              "      <td>[Docuseries, Reality TV]</td>\n",
              "      <td>Feuds, flirtations and toilet talk go down amo...</td>\n",
              "      <td>2021-09-24</td>\n",
              "      <td>9.0</td>\n",
              "      <td>2021.0</td>\n",
              "    </tr>\n",
              "    <tr>\n",
              "      <th>4</th>\n",
              "      <td>s5</td>\n",
              "      <td>TV Show</td>\n",
              "      <td>Kota Factory</td>\n",
              "      <td>[No Director]</td>\n",
              "      <td>[Mayur More, Jitendra Kumar, Ranjan Raj, Alam ...</td>\n",
              "      <td>India</td>\n",
              "      <td>September 24, 2021</td>\n",
              "      <td>2021</td>\n",
              "      <td>TV-MA</td>\n",
              "      <td>2 Seasons</td>\n",
              "      <td>[International TV Shows, Romantic TV Shows, TV...</td>\n",
              "      <td>In a city of coaching centers known to train I...</td>\n",
              "      <td>2021-09-24</td>\n",
              "      <td>9.0</td>\n",
              "      <td>2021.0</td>\n",
              "    </tr>\n",
              "  </tbody>\n",
              "</table>\n",
              "</div>"
            ],
            "text/plain": [
              "  show_id     type                  title           director  \\\n",
              "0      s1    Movie   Dick Johnson Is Dead  [Kirsten Johnson]   \n",
              "1      s2  TV Show          Blood & Water      [No Director]   \n",
              "2      s3  TV Show              Ganglands  [Julien Leclercq]   \n",
              "3      s4  TV Show  Jailbirds New Orleans      [No Director]   \n",
              "4      s5  TV Show           Kota Factory      [No Director]   \n",
              "\n",
              "                                                cast        country  \\\n",
              "0                                          [No Cast]  United States   \n",
              "1  [Ama Qamata, Khosi Ngema, Gail Mabalane, Thaba...   South Africa   \n",
              "2  [Sami Bouajila, Tracy Gotoas, Samuel Jouy, Nab...     No Country   \n",
              "3                                          [No Cast]     No Country   \n",
              "4  [Mayur More, Jitendra Kumar, Ranjan Raj, Alam ...          India   \n",
              "\n",
              "           date_added  release_year rating   duration  \\\n",
              "0  September 25, 2021          2020  PG-13     90 min   \n",
              "1  September 24, 2021          2021  TV-MA  2 Seasons   \n",
              "2  September 24, 2021          2021  TV-MA   1 Season   \n",
              "3  September 24, 2021          2021  TV-MA   1 Season   \n",
              "4  September 24, 2021          2021  TV-MA  2 Seasons   \n",
              "\n",
              "                                           listed_in  \\\n",
              "0                                    [Documentaries]   \n",
              "1  [International TV Shows, TV Dramas, TV Mysteries]   \n",
              "2  [Crime TV Shows, International TV Shows, TV Ac...   \n",
              "3                           [Docuseries, Reality TV]   \n",
              "4  [International TV Shows, Romantic TV Shows, TV...   \n",
              "\n",
              "                                         description   date_add  month    year  \n",
              "0  As her father nears the end of his life, filmm... 2021-09-25    9.0  2021.0  \n",
              "1  After crossing paths at a party, a Cape Town t... 2021-09-24    9.0  2021.0  \n",
              "2  To protect his family from a powerful drug lor... 2021-09-24    9.0  2021.0  \n",
              "3  Feuds, flirtations and toilet talk go down amo... 2021-09-24    9.0  2021.0  \n",
              "4  In a city of coaching centers known to train I... 2021-09-24    9.0  2021.0  "
            ]
          },
          "execution_count": 21,
          "metadata": {},
          "output_type": "execute_result"
        }
      ],
      "source": [
        "netflix.head()"
      ]
    },
    {
      "cell_type": "code",
      "execution_count": null,
      "id": "dd7e40b5",
      "metadata": {
        "id": "dd7e40b5",
        "outputId": "bacd325b-0620-4a7a-ded1-526faf9fcb2e"
      },
      "outputs": [
        {
          "data": {
            "image/png": "[encoded data removed]",
            "text/plain": [
              "<Figure size 576x576 with 1 Axes>"
            ]
          },
          "metadata": {},
          "output_type": "display_data"
        },
        {
          "data": {
            "text/plain": [
              "'\\nMovie has a higher percentage of 69.62% compared to TV Shows 30.38%\\n'"
            ]
          },
          "execution_count": 22,
          "metadata": {},
          "output_type": "execute_result"
        }
      ],
      "source": [
        "# PIE CHART_Univariate analysis\n",
        "\n",
        "Title_percent = netflix['type'].value_counts()/len(netflix)*100\n",
        "\n",
        "plt.figure(figsize=(8, 8))\n",
        "Title_percent.plot(kind='pie', y = Title_percent, labels=['Movie', 'TV Show'], autopct='%.2f%%', fontsize = 15)\n",
        "plt.ylabel('type', fontsize = 20)\n",
        "plt.title('Movies vs TV Shows', fontsize = 20)\n",
        "plt.show()\n",
        "'''\n",
        "Movie has a higher percentage of 69.62% compared to TV Shows 30.38%\n",
        "'''"
      ]
    },
    {
      "cell_type": "markdown",
      "id": "6ee451e2",
      "metadata": {
        "id": "6ee451e2"
      },
      "source": [
        "# 2. Top 10 countries producing movies or TV Shows?"
      ]
    },
    {
      "cell_type": "code",
      "execution_count": null,
      "id": "c3989c88",
      "metadata": {
        "id": "c3989c88",
        "outputId": "1bb7e975-f965-4334-895d-bdaacef54e24"
      },
      "outputs": [
        {
          "data": {
            "text/plain": [
              "United States     2818\n",
              "India              972\n",
              "No Country         831\n",
              "United Kingdom     419\n",
              "Japan              245\n",
              "South Korea        199\n",
              "Canada             181\n",
              "Spain              145\n",
              "France             124\n",
              "Mexico             110\n",
              "Name: country, dtype: int64"
            ]
          },
          "execution_count": 23,
          "metadata": {},
          "output_type": "execute_result"
        }
      ],
      "source": [
        "netflix['country'].value_counts().head(10)"
      ]
    },
    {
      "cell_type": "code",
      "execution_count": null,
      "id": "1c8da997",
      "metadata": {
        "id": "1c8da997",
        "outputId": "dfffc289-3537-487f-a1f6-932ff79d80a5"
      },
      "outputs": [
        {
          "data": {
            "text/plain": [
              "United States                            2058\n",
              "India                                     893\n",
              "United Kingdom                            206\n",
              "Canada                                    122\n",
              "Spain                                      97\n",
              "                                         ... \n",
              "United Kingdom, Russia, United States       1\n",
              "Paraguay, Argentina                         1\n",
              "United Kingdom, Malawi                      1\n",
              "Austria, Iraq, United States                1\n",
              "United Arab Emirates, Jordan                1\n",
              "Name: country, Length: 651, dtype: int64"
            ]
          },
          "execution_count": 25,
          "metadata": {},
          "output_type": "execute_result"
        }
      ],
      "source": [
        "Movies_country['country'].value_counts()"
      ]
    },
    {
      "cell_type": "code",
      "execution_count": null,
      "id": "bc2d9010",
      "metadata": {
        "id": "bc2d9010",
        "outputId": "209fa3e1-0f0f-4502-bba7-f0c3f14d5bca"
      },
      "outputs": [
        {
          "data": {
            "image/png": "[encoded data removed]",
            "text/plain": [
              "<Figure size 720x720 with 1 Axes>"
            ]
          },
          "metadata": {
            "needs_background": "light"
          },
          "output_type": "display_data"
        }
      ],
      "source": [
        "# BAR PLOT: Countries where movies are produed?\n",
        "\n",
        "Movies = netflix[netflix['type'] == 'Movie']\n",
        "Movies_country =  Movies[Movies['country']!= 'No Country']\n",
        "\n",
        "plt.figure(figsize = (10, 10))\n",
        "\n",
        "sns.barplot(x = Movies_country['country'].value_counts().head(10),\n",
        "            y = Movies_country['country'].value_counts().head(10).index, data = Movies)\n",
        "plt.ylabel('Country', fontsize = 20)\n",
        "plt.xlabel('Number of movies produced', fontsize = 20)\n",
        "plt.title('Movies produced in Country', fontsize = 20)\n",
        "plt.show()\n",
        "\n",
        "#As per data top 5 country produced the most Movies are United States, India, United Kingdom, Canada and Spain\n",
        "\n"
      ]
    },
    {
      "cell_type": "code",
      "execution_count": null,
      "id": "56781406",
      "metadata": {
        "id": "56781406",
        "outputId": "7c29c43f-9ce6-4c6f-e729-1405a1eb2054"
      },
      "outputs": [
        {
          "data": {
            "image/png": "[encoded data removed]",
            "text/plain": [
              "<Figure size 720x720 with 1 Axes>"
            ]
          },
          "metadata": {
            "needs_background": "light"
          },
          "output_type": "display_data"
        }
      ],
      "source": [
        "# BAR PLOT: Countries where TV Shows are produed?\n",
        "\n",
        "TV_shows = netflix[netflix['type'] == 'TV Show']\n",
        "TV_shows_country =  TV_shows[TV_shows['country']!= 'No Country']\n",
        "\n",
        "plt.figure(figsize = (10, 10))\n",
        "\n",
        "sns.barplot(x = TV_shows_country['country'].value_counts().head(10),\n",
        "            y = TV_shows_country['country'].value_counts().head(10).index, data = TV_shows)\n",
        "plt.ylabel('Country', fontsize = 20)\n",
        "plt.xlabel('Number of TV Shows produced', fontsize = 20)\n",
        "plt.title('TV Shows produced in Country', fontsize = 20)\n",
        "plt.show()\n",
        "\n",
        "#As per data top 5 country produced the most TV Shows are United States, United Kingdom, Japan, South Korea and India"
      ]
    },
    {
      "cell_type": "markdown",
      "id": "b150cd7d",
      "metadata": {
        "id": "b150cd7d"
      },
      "source": [
        "# 3. Most productive movie director?"
      ]
    },
    {
      "cell_type": "code",
      "execution_count": null,
      "id": "0f23feaa",
      "metadata": {
        "id": "0f23feaa",
        "outputId": "f1142b71-0bee-446d-8fa0-1639bdd53a20"
      },
      "outputs": [
        {
          "data": {
            "text/plain": [
              "Rajiv Chilaka     22\n",
              "Jan Suter         21\n",
              "Raúl Campos       19\n",
              "Suhas Kadav       16\n",
              "Marcus Raboy      16\n",
              "                  ..\n",
              "Raymie Muzquiz     1\n",
              "Stu Livingston     1\n",
              "Joe Menendez       1\n",
              "Eric Bross         1\n",
              "Mozez Singh        1\n",
              "Name: director, Length: 4993, dtype: int64"
            ]
          },
          "execution_count": 549,
          "metadata": {},
          "output_type": "execute_result"
        }
      ],
      "source": [
        "explode_director['director'].value_counts()"
      ]
    },
    {
      "cell_type": "code",
      "execution_count": null,
      "id": "55dd39d7",
      "metadata": {
        "id": "55dd39d7"
      },
      "outputs": [],
      "source": [
        "movie_data = explode_director[explode_director['type'] =='Movie']\n",
        "Prod_dir = movie_data.groupby('director')[['title', 'release_year']].aggregate({'release_year': ['min', 'max'],\n",
        "                                                                                'title': 'count'})"
      ]
    },
    {
      "cell_type": "code",
      "execution_count": null,
      "id": "1d0175d8",
      "metadata": {
        "id": "1d0175d8",
        "outputId": "009ac70b-1ebc-4810-98df-c2f4d61a7c55"
      },
      "outputs": [
        {
          "data": {
            "text/html": [
              "<div>\n",
              "<style scoped>\n",
              "    .dataframe tbody tr th:only-of-type {\n",
              "        vertical-align: middle;\n",
              "    }\n",
              "\n",
              "    .dataframe tbody tr th {\n",
              "        vertical-align: top;\n",
              "    }\n",
              "\n",
              "    .dataframe thead tr th {\n",
              "        text-align: left;\n",
              "    }\n",
              "\n",
              "    .dataframe thead tr:last-of-type th {\n",
              "        text-align: right;\n",
              "    }\n",
              "</style>\n",
              "<table border=\"1\" class=\"dataframe\">\n",
              "  <thead>\n",
              "    <tr>\n",
              "      <th></th>\n",
              "      <th colspan=\"2\" halign=\"left\">release_year</th>\n",
              "      <th>title</th>\n",
              "    </tr>\n",
              "    <tr>\n",
              "      <th></th>\n",
              "      <th>min</th>\n",
              "      <th>max</th>\n",
              "      <th>count</th>\n",
              "    </tr>\n",
              "    <tr>\n",
              "      <th>director</th>\n",
              "      <th></th>\n",
              "      <th></th>\n",
              "      <th></th>\n",
              "    </tr>\n",
              "  </thead>\n",
              "  <tbody>\n",
              "    <tr>\n",
              "      <th>A. L. Vijay</th>\n",
              "      <td>2016</td>\n",
              "      <td>2019</td>\n",
              "      <td>2</td>\n",
              "    </tr>\n",
              "    <tr>\n",
              "      <th>A. Raajdheep</th>\n",
              "      <td>2020</td>\n",
              "      <td>2020</td>\n",
              "      <td>1</td>\n",
              "    </tr>\n",
              "    <tr>\n",
              "      <th>A. Salaam</th>\n",
              "      <td>1975</td>\n",
              "      <td>1975</td>\n",
              "      <td>1</td>\n",
              "    </tr>\n",
              "    <tr>\n",
              "      <th>A.R. Murugadoss</th>\n",
              "      <td>2017</td>\n",
              "      <td>2018</td>\n",
              "      <td>2</td>\n",
              "    </tr>\n",
              "    <tr>\n",
              "      <th>Aadish Keluskar</th>\n",
              "      <td>2018</td>\n",
              "      <td>2018</td>\n",
              "      <td>1</td>\n",
              "    </tr>\n",
              "    <tr>\n",
              "      <th>...</th>\n",
              "      <td>...</td>\n",
              "      <td>...</td>\n",
              "      <td>...</td>\n",
              "    </tr>\n",
              "    <tr>\n",
              "      <th>Éric Warin</th>\n",
              "      <td>2016</td>\n",
              "      <td>2016</td>\n",
              "      <td>1</td>\n",
              "    </tr>\n",
              "    <tr>\n",
              "      <th>Ísold Uggadóttir</th>\n",
              "      <td>2018</td>\n",
              "      <td>2018</td>\n",
              "      <td>1</td>\n",
              "    </tr>\n",
              "    <tr>\n",
              "      <th>Óskar Thór Axelsson</th>\n",
              "      <td>2017</td>\n",
              "      <td>2017</td>\n",
              "      <td>1</td>\n",
              "    </tr>\n",
              "    <tr>\n",
              "      <th>Ömer Faruk Sorak</th>\n",
              "      <td>2001</td>\n",
              "      <td>2011</td>\n",
              "      <td>3</td>\n",
              "    </tr>\n",
              "    <tr>\n",
              "      <th>Şenol Sönmez</th>\n",
              "      <td>2015</td>\n",
              "      <td>2019</td>\n",
              "      <td>2</td>\n",
              "    </tr>\n",
              "  </tbody>\n",
              "</table>\n",
              "<p>4777 rows × 3 columns</p>\n",
              "</div>"
            ],
            "text/plain": [
              "                    release_year       title\n",
              "                             min   max count\n",
              "director                                    \n",
              "A. L. Vijay                 2016  2019     2\n",
              "A. Raajdheep                2020  2020     1\n",
              "A. Salaam                   1975  1975     1\n",
              "A.R. Murugadoss             2017  2018     2\n",
              "Aadish Keluskar             2018  2018     1\n",
              "...                          ...   ...   ...\n",
              "Éric Warin                  2016  2016     1\n",
              "Ísold Uggadóttir            2018  2018     1\n",
              "Óskar Thór Axelsson         2017  2017     1\n",
              "Ömer Faruk Sorak            2001  2011     3\n",
              "Şenol Sönmez                2015  2019     2\n",
              "\n",
              "[4777 rows x 3 columns]"
            ]
          },
          "execution_count": 551,
          "metadata": {},
          "output_type": "execute_result"
        }
      ],
      "source": [
        "Prod_dir"
      ]
    },
    {
      "cell_type": "code",
      "execution_count": null,
      "id": "e841d276",
      "metadata": {
        "id": "e841d276",
        "outputId": "bc08e54d-7230-4d65-8bca-7b5c4cd7d2ad"
      },
      "outputs": [
        {
          "data": {
            "text/plain": [
              "MultiIndex([('release_year',   'min'),\n",
              "            ('release_year',   'max'),\n",
              "            (       'title', 'count')],\n",
              "           )"
            ]
          },
          "execution_count": 552,
          "metadata": {},
          "output_type": "execute_result"
        }
      ],
      "source": [
        "Prod_dir.columns"
      ]
    },
    {
      "cell_type": "code",
      "execution_count": null,
      "id": "3aedcad2",
      "metadata": {
        "id": "3aedcad2",
        "outputId": "be3ff4c8-aa3f-40e1-f670-d12f05320750"
      },
      "outputs": [
        {
          "data": {
            "text/html": [
              "<div>\n",
              "<style scoped>\n",
              "    .dataframe tbody tr th:only-of-type {\n",
              "        vertical-align: middle;\n",
              "    }\n",
              "\n",
              "    .dataframe tbody tr th {\n",
              "        vertical-align: top;\n",
              "    }\n",
              "\n",
              "    .dataframe thead th {\n",
              "        text-align: right;\n",
              "    }\n",
              "</style>\n",
              "<table border=\"1\" class=\"dataframe\">\n",
              "  <thead>\n",
              "    <tr style=\"text-align: right;\">\n",
              "      <th></th>\n",
              "      <th>min</th>\n",
              "      <th>max</th>\n",
              "    </tr>\n",
              "    <tr>\n",
              "      <th>director</th>\n",
              "      <th></th>\n",
              "      <th></th>\n",
              "    </tr>\n",
              "  </thead>\n",
              "  <tbody>\n",
              "    <tr>\n",
              "      <th>A. L. Vijay</th>\n",
              "      <td>2016</td>\n",
              "      <td>2019</td>\n",
              "    </tr>\n",
              "    <tr>\n",
              "      <th>A. Raajdheep</th>\n",
              "      <td>2020</td>\n",
              "      <td>2020</td>\n",
              "    </tr>\n",
              "    <tr>\n",
              "      <th>A. Salaam</th>\n",
              "      <td>1975</td>\n",
              "      <td>1975</td>\n",
              "    </tr>\n",
              "    <tr>\n",
              "      <th>A.R. Murugadoss</th>\n",
              "      <td>2017</td>\n",
              "      <td>2018</td>\n",
              "    </tr>\n",
              "    <tr>\n",
              "      <th>Aadish Keluskar</th>\n",
              "      <td>2018</td>\n",
              "      <td>2018</td>\n",
              "    </tr>\n",
              "    <tr>\n",
              "      <th>...</th>\n",
              "      <td>...</td>\n",
              "      <td>...</td>\n",
              "    </tr>\n",
              "    <tr>\n",
              "      <th>Éric Warin</th>\n",
              "      <td>2016</td>\n",
              "      <td>2016</td>\n",
              "    </tr>\n",
              "    <tr>\n",
              "      <th>Ísold Uggadóttir</th>\n",
              "      <td>2018</td>\n",
              "      <td>2018</td>\n",
              "    </tr>\n",
              "    <tr>\n",
              "      <th>Óskar Thór Axelsson</th>\n",
              "      <td>2017</td>\n",
              "      <td>2017</td>\n",
              "    </tr>\n",
              "    <tr>\n",
              "      <th>Ömer Faruk Sorak</th>\n",
              "      <td>2001</td>\n",
              "      <td>2011</td>\n",
              "    </tr>\n",
              "    <tr>\n",
              "      <th>Şenol Sönmez</th>\n",
              "      <td>2015</td>\n",
              "      <td>2019</td>\n",
              "    </tr>\n",
              "  </tbody>\n",
              "</table>\n",
              "<p>4777 rows × 2 columns</p>\n",
              "</div>"
            ],
            "text/plain": [
              "                      min   max\n",
              "director                       \n",
              "A. L. Vijay          2016  2019\n",
              "A. Raajdheep         2020  2020\n",
              "A. Salaam            1975  1975\n",
              "A.R. Murugadoss      2017  2018\n",
              "Aadish Keluskar      2018  2018\n",
              "...                   ...   ...\n",
              "Éric Warin           2016  2016\n",
              "Ísold Uggadóttir     2018  2018\n",
              "Óskar Thór Axelsson  2017  2017\n",
              "Ömer Faruk Sorak     2001  2011\n",
              "Şenol Sönmez         2015  2019\n",
              "\n",
              "[4777 rows x 2 columns]"
            ]
          },
          "execution_count": 553,
          "metadata": {},
          "output_type": "execute_result"
        }
      ],
      "source": [
        "Prod_dir['release_year']"
      ]
    },
    {
      "cell_type": "code",
      "execution_count": null,
      "id": "d902421f",
      "metadata": {
        "id": "d902421f",
        "outputId": "f90e4bb6-9fdd-49f6-bf90-7d9a4a62b37a"
      },
      "outputs": [
        {
          "data": {
            "text/plain": [
              "[('release_year', 'min'), ('release_year', 'max'), ('title', 'count')]"
            ]
          },
          "execution_count": 554,
          "metadata": {},
          "output_type": "execute_result"
        }
      ],
      "source": [
        "[i for i in Prod_dir.columns]"
      ]
    },
    {
      "cell_type": "code",
      "execution_count": null,
      "id": "d0acd060",
      "metadata": {
        "id": "d0acd060",
        "outputId": "35914304-d936-41c9-e09b-8415118d034a"
      },
      "outputs": [
        {
          "data": {
            "text/plain": [
              "['release_year-min', 'release_year-max', 'title-count']"
            ]
          },
          "execution_count": 555,
          "metadata": {},
          "output_type": "execute_result"
        }
      ],
      "source": [
        "['-'.join(i) for i in Prod_dir.columns]"
      ]
    },
    {
      "cell_type": "code",
      "execution_count": null,
      "id": "c01c84d1",
      "metadata": {
        "id": "c01c84d1"
      },
      "outputs": [],
      "source": [
        "Prod_dir.columns = ['-'.join(i) for i in Prod_dir.columns]"
      ]
    },
    {
      "cell_type": "code",
      "execution_count": null,
      "id": "fdd9af35",
      "metadata": {
        "id": "fdd9af35",
        "outputId": "3caca50d-568e-4022-ceb1-d7e53bd703fe"
      },
      "outputs": [
        {
          "data": {
            "text/html": [
              "<div>\n",
              "<style scoped>\n",
              "    .dataframe tbody tr th:only-of-type {\n",
              "        vertical-align: middle;\n",
              "    }\n",
              "\n",
              "    .dataframe tbody tr th {\n",
              "        vertical-align: top;\n",
              "    }\n",
              "\n",
              "    .dataframe thead th {\n",
              "        text-align: right;\n",
              "    }\n",
              "</style>\n",
              "<table border=\"1\" class=\"dataframe\">\n",
              "  <thead>\n",
              "    <tr style=\"text-align: right;\">\n",
              "      <th></th>\n",
              "      <th>director</th>\n",
              "      <th>release_year-min</th>\n",
              "      <th>release_year-max</th>\n",
              "      <th>title-count</th>\n",
              "    </tr>\n",
              "  </thead>\n",
              "  <tbody>\n",
              "    <tr>\n",
              "      <th>0</th>\n",
              "      <td>A. L. Vijay</td>\n",
              "      <td>2016</td>\n",
              "      <td>2019</td>\n",
              "      <td>2</td>\n",
              "    </tr>\n",
              "    <tr>\n",
              "      <th>1</th>\n",
              "      <td>A. Raajdheep</td>\n",
              "      <td>2020</td>\n",
              "      <td>2020</td>\n",
              "      <td>1</td>\n",
              "    </tr>\n",
              "    <tr>\n",
              "      <th>2</th>\n",
              "      <td>A. Salaam</td>\n",
              "      <td>1975</td>\n",
              "      <td>1975</td>\n",
              "      <td>1</td>\n",
              "    </tr>\n",
              "    <tr>\n",
              "      <th>3</th>\n",
              "      <td>A.R. Murugadoss</td>\n",
              "      <td>2017</td>\n",
              "      <td>2018</td>\n",
              "      <td>2</td>\n",
              "    </tr>\n",
              "    <tr>\n",
              "      <th>4</th>\n",
              "      <td>Aadish Keluskar</td>\n",
              "      <td>2018</td>\n",
              "      <td>2018</td>\n",
              "      <td>1</td>\n",
              "    </tr>\n",
              "    <tr>\n",
              "      <th>...</th>\n",
              "      <td>...</td>\n",
              "      <td>...</td>\n",
              "      <td>...</td>\n",
              "      <td>...</td>\n",
              "    </tr>\n",
              "    <tr>\n",
              "      <th>4772</th>\n",
              "      <td>Éric Warin</td>\n",
              "      <td>2016</td>\n",
              "      <td>2016</td>\n",
              "      <td>1</td>\n",
              "    </tr>\n",
              "    <tr>\n",
              "      <th>4773</th>\n",
              "      <td>Ísold Uggadóttir</td>\n",
              "      <td>2018</td>\n",
              "      <td>2018</td>\n",
              "      <td>1</td>\n",
              "    </tr>\n",
              "    <tr>\n",
              "      <th>4774</th>\n",
              "      <td>Óskar Thór Axelsson</td>\n",
              "      <td>2017</td>\n",
              "      <td>2017</td>\n",
              "      <td>1</td>\n",
              "    </tr>\n",
              "    <tr>\n",
              "      <th>4775</th>\n",
              "      <td>Ömer Faruk Sorak</td>\n",
              "      <td>2001</td>\n",
              "      <td>2011</td>\n",
              "      <td>3</td>\n",
              "    </tr>\n",
              "    <tr>\n",
              "      <th>4776</th>\n",
              "      <td>Şenol Sönmez</td>\n",
              "      <td>2015</td>\n",
              "      <td>2019</td>\n",
              "      <td>2</td>\n",
              "    </tr>\n",
              "  </tbody>\n",
              "</table>\n",
              "<p>4777 rows × 4 columns</p>\n",
              "</div>"
            ],
            "text/plain": [
              "                 director  release_year-min  release_year-max  title-count\n",
              "0             A. L. Vijay              2016              2019            2\n",
              "1            A. Raajdheep              2020              2020            1\n",
              "2               A. Salaam              1975              1975            1\n",
              "3         A.R. Murugadoss              2017              2018            2\n",
              "4         Aadish Keluskar              2018              2018            1\n",
              "...                   ...               ...               ...          ...\n",
              "4772           Éric Warin              2016              2016            1\n",
              "4773     Ísold Uggadóttir              2018              2018            1\n",
              "4774  Óskar Thór Axelsson              2017              2017            1\n",
              "4775     Ömer Faruk Sorak              2001              2011            3\n",
              "4776         Şenol Sönmez              2015              2019            2\n",
              "\n",
              "[4777 rows x 4 columns]"
            ]
          },
          "execution_count": 557,
          "metadata": {},
          "output_type": "execute_result"
        }
      ],
      "source": [
        "Prod_dir.reset_index()"
      ]
    },
    {
      "cell_type": "code",
      "execution_count": null,
      "id": "75bf3c5b",
      "metadata": {
        "id": "75bf3c5b"
      },
      "outputs": [],
      "source": [
        "Prod_dir['years_active'] = Prod_dir['release_year-max'] - Prod_dir['release_year-min']"
      ]
    },
    {
      "cell_type": "code",
      "execution_count": null,
      "id": "5b9f213a",
      "metadata": {
        "id": "5b9f213a",
        "outputId": "13846365-eb86-48a1-d8b5-4a2e96fbdedc"
      },
      "outputs": [
        {
          "data": {
            "text/html": [
              "<div>\n",
              "<style scoped>\n",
              "    .dataframe tbody tr th:only-of-type {\n",
              "        vertical-align: middle;\n",
              "    }\n",
              "\n",
              "    .dataframe tbody tr th {\n",
              "        vertical-align: top;\n",
              "    }\n",
              "\n",
              "    .dataframe thead th {\n",
              "        text-align: right;\n",
              "    }\n",
              "</style>\n",
              "<table border=\"1\" class=\"dataframe\">\n",
              "  <thead>\n",
              "    <tr style=\"text-align: right;\">\n",
              "      <th></th>\n",
              "      <th>release_year-min</th>\n",
              "      <th>release_year-max</th>\n",
              "      <th>title-count</th>\n",
              "      <th>years_active</th>\n",
              "      <th>per_year</th>\n",
              "    </tr>\n",
              "    <tr>\n",
              "      <th>director</th>\n",
              "      <th></th>\n",
              "      <th></th>\n",
              "      <th></th>\n",
              "      <th></th>\n",
              "      <th></th>\n",
              "    </tr>\n",
              "  </thead>\n",
              "  <tbody>\n",
              "    <tr>\n",
              "      <th>Rajiv Chilaka</th>\n",
              "      <td>2009</td>\n",
              "      <td>2019</td>\n",
              "      <td>22</td>\n",
              "      <td>10</td>\n",
              "      <td>2.200000</td>\n",
              "    </tr>\n",
              "    <tr>\n",
              "      <th>Jan Suter</th>\n",
              "      <td>2016</td>\n",
              "      <td>2018</td>\n",
              "      <td>21</td>\n",
              "      <td>2</td>\n",
              "      <td>10.500000</td>\n",
              "    </tr>\n",
              "    <tr>\n",
              "      <th>Raúl Campos</th>\n",
              "      <td>2016</td>\n",
              "      <td>2018</td>\n",
              "      <td>19</td>\n",
              "      <td>2</td>\n",
              "      <td>9.500000</td>\n",
              "    </tr>\n",
              "    <tr>\n",
              "      <th>Suhas Kadav</th>\n",
              "      <td>2013</td>\n",
              "      <td>2019</td>\n",
              "      <td>16</td>\n",
              "      <td>6</td>\n",
              "      <td>2.666667</td>\n",
              "    </tr>\n",
              "    <tr>\n",
              "      <th>Marcus Raboy</th>\n",
              "      <td>2012</td>\n",
              "      <td>2020</td>\n",
              "      <td>15</td>\n",
              "      <td>8</td>\n",
              "      <td>1.875000</td>\n",
              "    </tr>\n",
              "    <tr>\n",
              "      <th>...</th>\n",
              "      <td>...</td>\n",
              "      <td>...</td>\n",
              "      <td>...</td>\n",
              "      <td>...</td>\n",
              "      <td>...</td>\n",
              "    </tr>\n",
              "    <tr>\n",
              "      <th>José Ortuño</th>\n",
              "      <td>2018</td>\n",
              "      <td>2018</td>\n",
              "      <td>1</td>\n",
              "      <td>0</td>\n",
              "      <td>inf</td>\n",
              "    </tr>\n",
              "    <tr>\n",
              "      <th>Bob Persichetti</th>\n",
              "      <td>2018</td>\n",
              "      <td>2018</td>\n",
              "      <td>1</td>\n",
              "      <td>0</td>\n",
              "      <td>inf</td>\n",
              "    </tr>\n",
              "    <tr>\n",
              "      <th>Jovanka Vuckovic</th>\n",
              "      <td>2017</td>\n",
              "      <td>2017</td>\n",
              "      <td>1</td>\n",
              "      <td>0</td>\n",
              "      <td>inf</td>\n",
              "    </tr>\n",
              "    <tr>\n",
              "      <th>Bob Odenkirk</th>\n",
              "      <td>2003</td>\n",
              "      <td>2003</td>\n",
              "      <td>1</td>\n",
              "      <td>0</td>\n",
              "      <td>inf</td>\n",
              "    </tr>\n",
              "    <tr>\n",
              "      <th>Awi Suryadi</th>\n",
              "      <td>2017</td>\n",
              "      <td>2017</td>\n",
              "      <td>1</td>\n",
              "      <td>0</td>\n",
              "      <td>inf</td>\n",
              "    </tr>\n",
              "  </tbody>\n",
              "</table>\n",
              "<p>4777 rows × 5 columns</p>\n",
              "</div>"
            ],
            "text/plain": [
              "                  release_year-min  release_year-max  title-count  \\\n",
              "director                                                            \n",
              "Rajiv Chilaka                 2009              2019           22   \n",
              "Jan Suter                     2016              2018           21   \n",
              "Raúl Campos                   2016              2018           19   \n",
              "Suhas Kadav                   2013              2019           16   \n",
              "Marcus Raboy                  2012              2020           15   \n",
              "...                            ...               ...          ...   \n",
              "José Ortuño                   2018              2018            1   \n",
              "Bob Persichetti               2018              2018            1   \n",
              "Jovanka Vuckovic              2017              2017            1   \n",
              "Bob Odenkirk                  2003              2003            1   \n",
              "Awi Suryadi                   2017              2017            1   \n",
              "\n",
              "                  years_active   per_year  \n",
              "director                                   \n",
              "Rajiv Chilaka               10   2.200000  \n",
              "Jan Suter                    2  10.500000  \n",
              "Raúl Campos                  2   9.500000  \n",
              "Suhas Kadav                  6   2.666667  \n",
              "Marcus Raboy                 8   1.875000  \n",
              "...                        ...        ...  \n",
              "José Ortuño                  0        inf  \n",
              "Bob Persichetti              0        inf  \n",
              "Jovanka Vuckovic             0        inf  \n",
              "Bob Odenkirk                 0        inf  \n",
              "Awi Suryadi                  0        inf  \n",
              "\n",
              "[4777 rows x 5 columns]"
            ]
          },
          "execution_count": 559,
          "metadata": {},
          "output_type": "execute_result"
        }
      ],
      "source": [
        "Prod_dir['per_year'] =  Prod_dir['title-count']/Prod_dir['years_active']\n",
        "Prod_dir.sort_values('title-count', ascending = False)"
      ]
    },
    {
      "cell_type": "code",
      "execution_count": null,
      "id": "cf794909",
      "metadata": {
        "id": "cf794909",
        "outputId": "bce99a53-0334-4b34-857f-28dbdec695c6"
      },
      "outputs": [
        {
          "data": {
            "text/html": [
              "<div>\n",
              "<style scoped>\n",
              "    .dataframe tbody tr th:only-of-type {\n",
              "        vertical-align: middle;\n",
              "    }\n",
              "\n",
              "    .dataframe tbody tr th {\n",
              "        vertical-align: top;\n",
              "    }\n",
              "\n",
              "    .dataframe thead th {\n",
              "        text-align: right;\n",
              "    }\n",
              "</style>\n",
              "<table border=\"1\" class=\"dataframe\">\n",
              "  <thead>\n",
              "    <tr style=\"text-align: right;\">\n",
              "      <th></th>\n",
              "      <th>release_year-min</th>\n",
              "      <th>release_year-max</th>\n",
              "      <th>title-count</th>\n",
              "      <th>years_active</th>\n",
              "      <th>per_year</th>\n",
              "    </tr>\n",
              "    <tr>\n",
              "      <th>director</th>\n",
              "      <th></th>\n",
              "      <th></th>\n",
              "      <th></th>\n",
              "      <th></th>\n",
              "      <th></th>\n",
              "    </tr>\n",
              "  </thead>\n",
              "  <tbody>\n",
              "    <tr>\n",
              "      <th>Rajiv Chilaka</th>\n",
              "      <td>2009</td>\n",
              "      <td>2019</td>\n",
              "      <td>22</td>\n",
              "      <td>10</td>\n",
              "      <td>2.2</td>\n",
              "    </tr>\n",
              "    <tr>\n",
              "      <th>Shannon Hartman</th>\n",
              "      <td>2009</td>\n",
              "      <td>2019</td>\n",
              "      <td>9</td>\n",
              "      <td>10</td>\n",
              "      <td>0.9</td>\n",
              "    </tr>\n",
              "    <tr>\n",
              "      <th>Ozan Açıktan</th>\n",
              "      <td>2010</td>\n",
              "      <td>2020</td>\n",
              "      <td>7</td>\n",
              "      <td>10</td>\n",
              "      <td>0.7</td>\n",
              "    </tr>\n",
              "    <tr>\n",
              "      <th>Priyadarshan</th>\n",
              "      <td>2006</td>\n",
              "      <td>2016</td>\n",
              "      <td>6</td>\n",
              "      <td>10</td>\n",
              "      <td>0.6</td>\n",
              "    </tr>\n",
              "    <tr>\n",
              "      <th>Matt Askem</th>\n",
              "      <td>2008</td>\n",
              "      <td>2018</td>\n",
              "      <td>6</td>\n",
              "      <td>10</td>\n",
              "      <td>0.6</td>\n",
              "    </tr>\n",
              "    <tr>\n",
              "      <th>Ava DuVernay</th>\n",
              "      <td>2008</td>\n",
              "      <td>2018</td>\n",
              "      <td>5</td>\n",
              "      <td>10</td>\n",
              "      <td>0.5</td>\n",
              "    </tr>\n",
              "    <tr>\n",
              "      <th>Prakash Jha</th>\n",
              "      <td>2003</td>\n",
              "      <td>2013</td>\n",
              "      <td>5</td>\n",
              "      <td>10</td>\n",
              "      <td>0.5</td>\n",
              "    </tr>\n",
              "    <tr>\n",
              "      <th>Michael Simon</th>\n",
              "      <td>2008</td>\n",
              "      <td>2018</td>\n",
              "      <td>5</td>\n",
              "      <td>10</td>\n",
              "      <td>0.5</td>\n",
              "    </tr>\n",
              "    <tr>\n",
              "      <th>Clay Glen</th>\n",
              "      <td>2011</td>\n",
              "      <td>2021</td>\n",
              "      <td>4</td>\n",
              "      <td>10</td>\n",
              "      <td>0.4</td>\n",
              "    </tr>\n",
              "    <tr>\n",
              "      <th>Farah Khan</th>\n",
              "      <td>2004</td>\n",
              "      <td>2014</td>\n",
              "      <td>4</td>\n",
              "      <td>10</td>\n",
              "      <td>0.4</td>\n",
              "    </tr>\n",
              "    <tr>\n",
              "      <th>Farhan Akhtar</th>\n",
              "      <td>2001</td>\n",
              "      <td>2011</td>\n",
              "      <td>4</td>\n",
              "      <td>10</td>\n",
              "      <td>0.4</td>\n",
              "    </tr>\n",
              "    <tr>\n",
              "      <th>Vikramaditya Motwane</th>\n",
              "      <td>2010</td>\n",
              "      <td>2020</td>\n",
              "      <td>3</td>\n",
              "      <td>10</td>\n",
              "      <td>0.3</td>\n",
              "    </tr>\n",
              "    <tr>\n",
              "      <th>Ribhu Dasgupta</th>\n",
              "      <td>2011</td>\n",
              "      <td>2021</td>\n",
              "      <td>3</td>\n",
              "      <td>10</td>\n",
              "      <td>0.3</td>\n",
              "    </tr>\n",
              "    <tr>\n",
              "      <th>Pablo Larraín</th>\n",
              "      <td>2006</td>\n",
              "      <td>2016</td>\n",
              "      <td>3</td>\n",
              "      <td>10</td>\n",
              "      <td>0.3</td>\n",
              "    </tr>\n",
              "    <tr>\n",
              "      <th>Noriyuki Abe</th>\n",
              "      <td>2008</td>\n",
              "      <td>2018</td>\n",
              "      <td>3</td>\n",
              "      <td>10</td>\n",
              "      <td>0.3</td>\n",
              "    </tr>\n",
              "    <tr>\n",
              "      <th>Neeraj Pandey</th>\n",
              "      <td>2008</td>\n",
              "      <td>2018</td>\n",
              "      <td>3</td>\n",
              "      <td>10</td>\n",
              "      <td>0.3</td>\n",
              "    </tr>\n",
              "    <tr>\n",
              "      <th>Neal Brennan</th>\n",
              "      <td>2009</td>\n",
              "      <td>2019</td>\n",
              "      <td>3</td>\n",
              "      <td>10</td>\n",
              "      <td>0.3</td>\n",
              "    </tr>\n",
              "    <tr>\n",
              "      <th>Dante Lam</th>\n",
              "      <td>2008</td>\n",
              "      <td>2018</td>\n",
              "      <td>3</td>\n",
              "      <td>10</td>\n",
              "      <td>0.3</td>\n",
              "    </tr>\n",
              "    <tr>\n",
              "      <th>Ömer Faruk Sorak</th>\n",
              "      <td>2001</td>\n",
              "      <td>2011</td>\n",
              "      <td>3</td>\n",
              "      <td>10</td>\n",
              "      <td>0.3</td>\n",
              "    </tr>\n",
              "    <tr>\n",
              "      <th>Michael J. Bassett</th>\n",
              "      <td>2009</td>\n",
              "      <td>2019</td>\n",
              "      <td>2</td>\n",
              "      <td>10</td>\n",
              "      <td>0.2</td>\n",
              "    </tr>\n",
              "    <tr>\n",
              "      <th>Lee Hirsch</th>\n",
              "      <td>2002</td>\n",
              "      <td>2012</td>\n",
              "      <td>2</td>\n",
              "      <td>10</td>\n",
              "      <td>0.2</td>\n",
              "    </tr>\n",
              "    <tr>\n",
              "      <th>Jonathan Hensleigh</th>\n",
              "      <td>2011</td>\n",
              "      <td>2021</td>\n",
              "      <td>2</td>\n",
              "      <td>10</td>\n",
              "      <td>0.2</td>\n",
              "    </tr>\n",
              "    <tr>\n",
              "      <th>Erik Canuel</th>\n",
              "      <td>2006</td>\n",
              "      <td>2016</td>\n",
              "      <td>2</td>\n",
              "      <td>10</td>\n",
              "      <td>0.2</td>\n",
              "    </tr>\n",
              "    <tr>\n",
              "      <th>Ryan Murphy</th>\n",
              "      <td>2010</td>\n",
              "      <td>2020</td>\n",
              "      <td>2</td>\n",
              "      <td>10</td>\n",
              "      <td>0.2</td>\n",
              "    </tr>\n",
              "    <tr>\n",
              "      <th>Dominic Sena</th>\n",
              "      <td>2001</td>\n",
              "      <td>2011</td>\n",
              "      <td>2</td>\n",
              "      <td>10</td>\n",
              "      <td>0.2</td>\n",
              "    </tr>\n",
              "    <tr>\n",
              "      <th>Stephen Chow</th>\n",
              "      <td>1994</td>\n",
              "      <td>2004</td>\n",
              "      <td>2</td>\n",
              "      <td>10</td>\n",
              "      <td>0.2</td>\n",
              "    </tr>\n",
              "    <tr>\n",
              "      <th>Suparn Verma</th>\n",
              "      <td>2005</td>\n",
              "      <td>2015</td>\n",
              "      <td>2</td>\n",
              "      <td>10</td>\n",
              "      <td>0.2</td>\n",
              "    </tr>\n",
              "    <tr>\n",
              "      <th>Tyler Perry</th>\n",
              "      <td>2010</td>\n",
              "      <td>2020</td>\n",
              "      <td>2</td>\n",
              "      <td>10</td>\n",
              "      <td>0.2</td>\n",
              "    </tr>\n",
              "  </tbody>\n",
              "</table>\n",
              "</div>"
            ],
            "text/plain": [
              "                      release_year-min  release_year-max  title-count  \\\n",
              "director                                                                \n",
              "Rajiv Chilaka                     2009              2019           22   \n",
              "Shannon Hartman                   2009              2019            9   \n",
              "Ozan Açıktan                      2010              2020            7   \n",
              "Priyadarshan                      2006              2016            6   \n",
              "Matt Askem                        2008              2018            6   \n",
              "Ava DuVernay                      2008              2018            5   \n",
              "Prakash Jha                       2003              2013            5   \n",
              "Michael Simon                     2008              2018            5   \n",
              "Clay Glen                         2011              2021            4   \n",
              "Farah Khan                        2004              2014            4   \n",
              "Farhan Akhtar                     2001              2011            4   \n",
              "Vikramaditya Motwane              2010              2020            3   \n",
              "Ribhu Dasgupta                    2011              2021            3   \n",
              "Pablo Larraín                     2006              2016            3   \n",
              "Noriyuki Abe                      2008              2018            3   \n",
              "Neeraj Pandey                     2008              2018            3   \n",
              "Neal Brennan                      2009              2019            3   \n",
              "Dante Lam                         2008              2018            3   \n",
              "Ömer Faruk Sorak                  2001              2011            3   \n",
              "Michael J. Bassett                2009              2019            2   \n",
              "Lee Hirsch                        2002              2012            2   \n",
              "Jonathan Hensleigh                2011              2021            2   \n",
              "Erik Canuel                       2006              2016            2   \n",
              "Ryan Murphy                       2010              2020            2   \n",
              "Dominic Sena                      2001              2011            2   \n",
              "Stephen Chow                      1994              2004            2   \n",
              "Suparn Verma                      2005              2015            2   \n",
              "Tyler Perry                       2010              2020            2   \n",
              "\n",
              "                      years_active  per_year  \n",
              "director                                      \n",
              "Rajiv Chilaka                   10       2.2  \n",
              "Shannon Hartman                 10       0.9  \n",
              "Ozan Açıktan                    10       0.7  \n",
              "Priyadarshan                    10       0.6  \n",
              "Matt Askem                      10       0.6  \n",
              "Ava DuVernay                    10       0.5  \n",
              "Prakash Jha                     10       0.5  \n",
              "Michael Simon                   10       0.5  \n",
              "Clay Glen                       10       0.4  \n",
              "Farah Khan                      10       0.4  \n",
              "Farhan Akhtar                   10       0.4  \n",
              "Vikramaditya Motwane            10       0.3  \n",
              "Ribhu Dasgupta                  10       0.3  \n",
              "Pablo Larraín                   10       0.3  \n",
              "Noriyuki Abe                    10       0.3  \n",
              "Neeraj Pandey                   10       0.3  \n",
              "Neal Brennan                    10       0.3  \n",
              "Dante Lam                       10       0.3  \n",
              "Ömer Faruk Sorak                10       0.3  \n",
              "Michael J. Bassett              10       0.2  \n",
              "Lee Hirsch                      10       0.2  \n",
              "Jonathan Hensleigh              10       0.2  \n",
              "Erik Canuel                     10       0.2  \n",
              "Ryan Murphy                     10       0.2  \n",
              "Dominic Sena                    10       0.2  \n",
              "Stephen Chow                    10       0.2  \n",
              "Suparn Verma                    10       0.2  \n",
              "Tyler Perry                     10       0.2  "
            ]
          },
          "execution_count": 560,
          "metadata": {},
          "output_type": "execute_result"
        }
      ],
      "source": [
        "\n",
        "#Director's data of 10 years\n",
        "\n",
        "'''\n",
        "Director Rajiv Chilaka has produced a total of 22 movies in the last 10 years with 2.2 movies/year\n",
        "therefore the most productive director\n",
        "\n",
        "'''\n",
        "\n",
        "Data = Prod_dir[Prod_dir['years_active'] == 10]\n",
        "Data.sort_values('per_year',ascending = False).head(50)\n",
        "\n"
      ]
    },
    {
      "cell_type": "code",
      "execution_count": null,
      "id": "c0a7da6a",
      "metadata": {
        "id": "c0a7da6a",
        "outputId": "d4dcc16c-eaec-4d2e-efeb-85ca34232bf0"
      },
      "outputs": [
        {
          "data": {
            "text/plain": [
              "4777"
            ]
          },
          "execution_count": 561,
          "metadata": {},
          "output_type": "execute_result"
        }
      ],
      "source": [
        "#There are total 4777 directors producing movies-\n",
        "movie_data['director'].nunique()"
      ]
    },
    {
      "cell_type": "code",
      "execution_count": null,
      "id": "6d79385e",
      "metadata": {
        "id": "6d79385e",
        "outputId": "d16d1a60-9cc3-4aff-d0c2-324524e47497"
      },
      "outputs": [
        {
          "data": {
            "image/png": "[encoded data removed]",
            "text/plain": [
              "<Figure size 720x720 with 1 Axes>"
            ]
          },
          "metadata": {
            "needs_background": "light"
          },
          "output_type": "display_data"
        }
      ],
      "source": [
        "#Best Directors:\n",
        "plt.figure(figsize = (10, 10))\n",
        "sns.barplot(x = explode_director['director'].value_counts().head(10),\n",
        "            y = explode_director['director'].value_counts().head(10).index, data = explode_director)\n",
        "plt.title('Movie Directors content', fontsize = 30)\n",
        "plt.xlabel('Count', fontsize = 20)\n",
        "plt.ylabel('Director', fontsize = 20)\n",
        "plt.show()"
      ]
    },
    {
      "cell_type": "code",
      "execution_count": null,
      "id": "e9865f1d",
      "metadata": {
        "id": "e9865f1d",
        "outputId": "8bbe2ac9-0ddd-4969-b05c-b810bf6aa921"
      },
      "outputs": [
        {
          "data": {
            "text/plain": [
              "Anupam Kher                43\n",
              "Shah Rukh Khan             35\n",
              "Julie Tejwani              33\n",
              "Naseeruddin Shah           32\n",
              "Takahiro Sakurai           32\n",
              "                           ..\n",
              "Maryam Zaree                1\n",
              "Melanie Straub              1\n",
              "Gabriela Maria Schmeide     1\n",
              "Helena Zengel               1\n",
              "Chittaranjan Tripathy       1\n",
              "Name: cast, Length: 36439, dtype: int64"
            ]
          },
          "execution_count": 563,
          "metadata": {},
          "output_type": "execute_result"
        }
      ],
      "source": [
        "explode_cast['cast'].value_counts()"
      ]
    },
    {
      "cell_type": "code",
      "execution_count": null,
      "id": "7e2c62db",
      "metadata": {
        "id": "7e2c62db",
        "outputId": "c83b086c-043a-4840-f448-5b096a1dbbec"
      },
      "outputs": [
        {
          "data": {
            "image/png": "[encoded data removed]",
            "text/plain": [
              "<Figure size 720x720 with 1 Axes>"
            ]
          },
          "metadata": {
            "needs_background": "light"
          },
          "output_type": "display_data"
        }
      ],
      "source": [
        "#Best Actors/Actress:\n",
        "plt.figure(figsize = (10, 10))\n",
        "sns.barplot(x = explode_cast['cast'].value_counts().head(10),\n",
        "            y = explode_cast['cast'].value_counts().head(10).index, data = explode_cast)\n",
        "plt.title('Actors/Actress content', fontsize = 30)\n",
        "plt.xlabel('Count', fontsize = 20)\n",
        "plt.ylabel('Actors/Actress', fontsize = 20)\n",
        "plt.show()"
      ]
    },
    {
      "cell_type": "markdown",
      "id": "7414d701",
      "metadata": {
        "id": "7414d701"
      },
      "source": [
        "# Top ratings"
      ]
    },
    {
      "cell_type": "code",
      "execution_count": null,
      "id": "f77ff3fc",
      "metadata": {
        "id": "f77ff3fc",
        "outputId": "3a62d3c6-4e90-4924-c94f-4c96d7b54256"
      },
      "outputs": [
        {
          "data": {
            "text/plain": [
              "TV-MA       3207\n",
              "TV-14       2160\n",
              "TV-PG        863\n",
              "R            799\n",
              "PG-13        490\n",
              "TV-Y7        334\n",
              "TV-Y         307\n",
              "PG           287\n",
              "TV-G         220\n",
              "NR            80\n",
              "G             41\n",
              "TV-Y7-FV       6\n",
              "NC-17          3\n",
              "UR             3\n",
              "74 min         1\n",
              "84 min         1\n",
              "66 min         1\n",
              "Name: rating, dtype: int64"
            ]
          },
          "execution_count": 565,
          "metadata": {},
          "output_type": "execute_result"
        }
      ],
      "source": [
        "#Which title has got the highest rating?\n",
        "netflix['rating'].value_counts()"
      ]
    },
    {
      "cell_type": "code",
      "execution_count": null,
      "id": "59275552",
      "metadata": {
        "id": "59275552",
        "outputId": "4e43523b-92cd-46d6-a68e-8dce4f065d28"
      },
      "outputs": [
        {
          "data": {
            "image/png": "[encoded data removed]",
            "text/plain": [
              "<Figure size 720x720 with 1 Axes>"
            ]
          },
          "metadata": {
            "needs_background": "light"
          },
          "output_type": "display_data"
        }
      ],
      "source": [
        "plt.figure(figsize = (10, 10))\n",
        "\n",
        "sns.barplot(x = netflix['rating'].value_counts().head(10),\n",
        "            y = netflix['rating'].value_counts().head(10).index, data = netflix)\n",
        "plt.ylabel('rating', fontsize = 20)\n",
        "plt.xlabel('count', fontsize = 20)\n",
        "plt.title('Rating Counts', fontsize = 20)\n",
        "plt.show()\n",
        "#TV-MA has the highest count, TV-MA means Mature Audience only for above 17 years of age"
      ]
    },
    {
      "cell_type": "code",
      "execution_count": null,
      "id": "0f47109f",
      "metadata": {
        "id": "0f47109f",
        "outputId": "f199b0b3-c4b1-4179-ae56-5f7991b968be"
      },
      "outputs": [
        {
          "data": {
            "image/png": "[encoded data removed]",
            "text/plain": [
              "<Figure size 1440x1080 with 1 Axes>"
            ]
          },
          "metadata": {
            "needs_background": "light"
          },
          "output_type": "display_data"
        },
        {
          "data": {
            "text/plain": [
              "'\\nFrom the data we observe that TV_MA which is highly rated has lesser time difference\\n\\n\\n'"
            ]
          },
          "execution_count": 587,
          "metadata": {},
          "output_type": "execute_result"
        }
      ],
      "source": [
        "#Difference in Movie release and Movie added to netflix with ratings\n",
        "netflix['year difference'] = netflix['year'] - netflix['release_year']\n",
        "\n",
        "plt.figure(figsize = (20, 15))\n",
        "sns.barplot(x = 'year difference', y = 'rating', data = netflix)\n",
        "plt.ylabel('Ratings', fontsize = 20)\n",
        "plt.xlabel('Year Difference', fontsize = 20)\n",
        "plt.title('Ratings for Year Difference', fontsize = 20)\n",
        "plt.show()\n",
        "'''\n",
        "From the data we observe that TV_MA which is highly rated has lesser time difference\n",
        "\n",
        "\n",
        "'''"
      ]
    },
    {
      "cell_type": "code",
      "execution_count": null,
      "id": "8864055b",
      "metadata": {
        "id": "8864055b",
        "outputId": "50a9d376-46ac-409a-a0ed-b83eae218dd9"
      },
      "outputs": [
        {
          "data": {
            "image/png": "[encoded data removed]",
            "text/plain": [
              "<Figure size 1080x360 with 1 Axes>"
            ]
          },
          "metadata": {
            "needs_background": "light"
          },
          "output_type": "display_data"
        },
        {
          "data": {
            "text/plain": [
              "'\\nOverall rating is more for movies than TV_Shows, where TV_MA is highly rated for movies as well as TV_shows\\n\\n'"
            ]
          },
          "execution_count": 568,
          "metadata": {},
          "output_type": "execute_result"
        }
      ],
      "source": [
        "##Categorial and Categorial:\n",
        "\n",
        "plt.figure(figsize = (15, 5))\n",
        "sns.countplot(x = 'rating', hue = 'type', data = netflix)\n",
        "plt.title('Rating for Movies and TV_Shows',  fontsize = 20)\n",
        "plt.ylabel('Count', fontsize = 20)\n",
        "plt.xlabel('Rating', fontsize = 20)\n",
        "\n",
        "plt.show()\n",
        "'''\n",
        "Overall rating is more for movies than TV_Shows, where TV_MA is highly rated for movies as well as TV_shows\n",
        "\n",
        "'''"
      ]
    },
    {
      "cell_type": "markdown",
      "id": "8a31ecb9",
      "metadata": {
        "id": "8a31ecb9"
      },
      "source": [
        "# Release Year"
      ]
    },
    {
      "cell_type": "code",
      "execution_count": null,
      "id": "2688719d",
      "metadata": {
        "id": "2688719d",
        "outputId": "ce0b5f9f-1f1e-4a6a-ac1e-e54c64d80e9b"
      },
      "outputs": [
        {
          "data": {
            "text/plain": [
              "2018    1147\n",
              "2017    1032\n",
              "2019    1030\n",
              "2020     953\n",
              "2016     902\n",
              "        ... \n",
              "1959       1\n",
              "1925       1\n",
              "1961       1\n",
              "1947       1\n",
              "1966       1\n",
              "Name: release_year, Length: 74, dtype: int64"
            ]
          },
          "execution_count": 569,
          "metadata": {},
          "output_type": "execute_result"
        }
      ],
      "source": [
        "netflix['release_year'].value_counts()"
      ]
    },
    {
      "cell_type": "code",
      "execution_count": null,
      "id": "6fe85407",
      "metadata": {
        "id": "6fe85407",
        "outputId": "40144979-9495-437b-cd3d-652444bf3b7d"
      },
      "outputs": [
        {
          "data": {
            "image/png": "[encoded data removed]",
            "text/plain": [
              "<Figure size 720x720 with 1 Axes>"
            ]
          },
          "metadata": {
            "needs_background": "light"
          },
          "output_type": "display_data"
        },
        {
          "data": {
            "text/plain": [
              "'\\nMovies/TVShows were mostly release in the year 2018\\n\\n'"
            ]
          },
          "execution_count": 588,
          "metadata": {},
          "output_type": "execute_result"
        }
      ],
      "source": [
        "# COUNTPLOT\n",
        "plt.figure(figsize = (10, 10))\n",
        "ax = sns.countplot(y = 'release_year', data = netflix, order = netflix.release_year.value_counts().index[0:15])\n",
        "plt.title('Content Release year',  fontsize = 20)\n",
        "plt.ylabel('Release Year', fontsize = 20)\n",
        "plt.xlabel('Count', fontsize = 20)\n",
        "plt.show()\n",
        "\n",
        "'''\n",
        "Movies/TVShows were mostly release in the year 2018\n",
        "\n",
        "'''"
      ]
    },
    {
      "cell_type": "code",
      "execution_count": null,
      "id": "97fc785b",
      "metadata": {
        "id": "97fc785b",
        "outputId": "f693d0ef-40cd-4333-d2c0-8905c89a725b"
      },
      "outputs": [
        {
          "data": {
            "image/png": "[encoded data removed]",
            "text/plain": [
              "<Figure size 1080x720 with 1 Axes>"
            ]
          },
          "metadata": {
            "needs_background": "light"
          },
          "output_type": "display_data"
        },
        {
          "data": {
            "text/plain": [
              "'\\nNetflix releases the movies in all the months except July month is at higher side\\n'"
            ]
          },
          "execution_count": 571,
          "metadata": {},
          "output_type": "execute_result"
        }
      ],
      "source": [
        "#Month wise release information of Movies\n",
        "\n",
        "plt.figure(figsize = (15, 10))\n",
        "Movie_release = netflix[netflix['type'] == 'Movie']\n",
        "plot = sns.countplot(x = 'month', data = Movie_release)\n",
        "plot.set_xticklabels(['January', 'February', 'March', 'April', 'May', 'June', 'July', 'August', 'September',\n",
        "                    'October', 'November', 'December'])\n",
        "plt.title('Month wise Movie Release',  fontsize = 20)\n",
        "plt.ylabel('Count', fontsize = 20)\n",
        "plt.xlabel('Month', fontsize = 20)\n",
        "plt.show()\n",
        "\n",
        "'''\n",
        "Netflix releases the movies in all the months except July month is at higher side\n",
        "'''"
      ]
    },
    {
      "cell_type": "code",
      "execution_count": null,
      "id": "ff1b118f",
      "metadata": {
        "id": "ff1b118f",
        "outputId": "a3f4bcc2-3995-44e8-c27a-16fa8babecc2"
      },
      "outputs": [
        {
          "data": {
            "image/png": "[encoded data removed]",
            "text/plain": [
              "<Figure size 1080x720 with 1 Axes>"
            ]
          },
          "metadata": {
            "needs_background": "light"
          },
          "output_type": "display_data"
        },
        {
          "data": {
            "text/plain": [
              "'\\nNetflix release the Tv Show majorly in month of December and July\\n\\n'"
            ]
          },
          "execution_count": 572,
          "metadata": {},
          "output_type": "execute_result"
        }
      ],
      "source": [
        "#Month wise release information of TV Shows\n",
        "\n",
        "plt.figure(figsize = (15, 10))\n",
        "TVShow_release = netflix[netflix['type'] == 'TV Show']\n",
        "plot = sns.countplot(x = 'month', data = TVShow_release)\n",
        "plot.set_xticklabels(['January', 'February', 'March', 'April', 'May', 'June', 'July', 'August', 'September',\n",
        "                    'October', 'November', 'December'])\n",
        "plt.title('Month wise TV Show Release',  fontsize = 20)\n",
        "plt.ylabel('Count', fontsize = 20)\n",
        "plt.xlabel('Month', fontsize = 20)\n",
        "plt.show()\n",
        "\n",
        "'''\n",
        "Netflix release the Tv Show majorly in month of December and July\n",
        "\n",
        "'''"
      ]
    },
    {
      "cell_type": "code",
      "execution_count": null,
      "id": "7b6b2e0b",
      "metadata": {
        "id": "7b6b2e0b",
        "outputId": "4767a182-5b7a-4d01-f2d0-ed3c3fe67060"
      },
      "outputs": [
        {
          "data": {
            "image/png": "[encoded data removed]",
            "text/plain": [
              "<Figure size 720x720 with 1 Axes>"
            ]
          },
          "metadata": {
            "needs_background": "light"
          },
          "output_type": "display_data"
        }
      ],
      "source": [
        "plt.figure(figsize = (10, 10))\n",
        "TVShow_release = explode_listedin[explode_listedin['type'] == 'TV Show']\n",
        "sns.barplot(x = TVShow_release['listed_in'].value_counts().head(10),\n",
        "            y = TVShow_release['listed_in'].value_counts().head(10).index, data = TVShow_release )\n",
        "\n",
        "plt.xlabel('count', fontsize = 20)\n",
        "plt.title('Documentaries for TV Shows', fontsize = 20)\n",
        "plt.show()\n"
      ]
    },
    {
      "cell_type": "code",
      "execution_count": null,
      "id": "ba0c03e6",
      "metadata": {
        "id": "ba0c03e6",
        "outputId": "b5fad4ab-73cf-475f-b670-a9a7737d3e8e"
      },
      "outputs": [
        {
          "data": {
            "image/png": "[encoded data removed]",
            "text/plain": [
              "<Figure size 720x720 with 1 Axes>"
            ]
          },
          "metadata": {
            "needs_background": "light"
          },
          "output_type": "display_data"
        }
      ],
      "source": [
        "plt.figure(figsize = (10, 10))\n",
        "Movie_list = explode_listedin[explode_listedin['type'] == 'Movie']\n",
        "sns.barplot(x = Movie_list['listed_in'].value_counts().head(10),\n",
        "            y = Movie_list['listed_in'].value_counts().head(10).index, data = Movie_list )\n",
        "\n",
        "plt.xlabel('count', fontsize = 20)\n",
        "plt.title('Documentaries for Movie', fontsize = 20)\n",
        "plt.show()\n"
      ]
    },
    {
      "cell_type": "markdown",
      "id": "21391ef1",
      "metadata": {
        "id": "21391ef1"
      },
      "source": [
        "# Duration of Movies and TV Shows on Netflix??"
      ]
    },
    {
      "cell_type": "code",
      "execution_count": null,
      "id": "2b84aa79",
      "metadata": {
        "id": "2b84aa79",
        "outputId": "ee2a29bd-312d-4e12-e50e-58400beb7b93"
      },
      "outputs": [
        {
          "name": "stderr",
          "output_type": "stream",
          "text": [
            "C:\\Users\\Chanchal Gupta\\AppData\\Local\\Temp\\ipykernel_5500\\293250842.py:1: SettingWithCopyWarning: \n",
            "A value is trying to be set on a copy of a slice from a DataFrame.\n",
            "Try using .loc[row_indexer,col_indexer] = value instead\n",
            "\n",
            "See the caveats in the documentation: https://pandas.pydata.org/pandas-docs/stable/user_guide/indexing.html#returning-a-view-versus-a-copy\n",
            "  Movies['duration'] = pd.to_numeric(Movies['duration'].str.split(\" \").str[0], errors = 'coerce').convert_dtypes()\n"
          ]
        }
      ],
      "source": [
        "Movies['duration'] = pd.to_numeric(Movies['duration'].str.split(\" \").str[0], errors = 'coerce').convert_dtypes()"
      ]
    },
    {
      "cell_type": "code",
      "execution_count": null,
      "id": "e85b2f64",
      "metadata": {
        "id": "e85b2f64",
        "outputId": "d55396fd-b571-4fdb-e4d1-7b33a56a7a76"
      },
      "outputs": [
        {
          "data": {
            "text/plain": [
              "90     152\n",
              "94     146\n",
              "93     146\n",
              "97     146\n",
              "91     144\n",
              "      ... \n",
              "43       1\n",
              "273      1\n",
              "9        1\n",
              "214      1\n",
              "191      1\n",
              "Name: duration, Length: 205, dtype: Int64"
            ]
          },
          "execution_count": 576,
          "metadata": {},
          "output_type": "execute_result"
        }
      ],
      "source": [
        "Movies['duration'].value_counts().sort_values(ascending = False)\n",
        "\n",
        "#Mostly Duration of Movie falls within 90 to 120min (1.5 to 2 hrs)"
      ]
    },
    {
      "cell_type": "code",
      "execution_count": null,
      "id": "73eea422",
      "metadata": {
        "id": "73eea422",
        "outputId": "b2dbd74d-fa44-414a-f797-f84015b82a40"
      },
      "outputs": [
        {
          "data": {
            "image/png": "[encoded data removed]",
            "text/plain": [
              "<Figure size 1080x576 with 1 Axes>"
            ]
          },
          "metadata": {
            "needs_background": "light"
          },
          "output_type": "display_data"
        }
      ],
      "source": [
        "plt.figure(figsize = (15, 8))\n",
        "sns.barplot(x = 'title',y = 'duration', data = Movies.head(5))\n",
        "\n",
        "\n",
        "plt.xlabel('Title', fontsize = 25)\n",
        "plt.ylabel('Duration', fontsize = 25)\n",
        "plt.title('Movie Duration', fontsize = 30)\n",
        "plt.show()\n",
        "\n"
      ]
    },
    {
      "cell_type": "code",
      "execution_count": null,
      "id": "eaf23b20",
      "metadata": {
        "id": "eaf23b20",
        "outputId": "9186ca64-75af-4e3d-9dbd-871cdcfa0e90"
      },
      "outputs": [
        {
          "name": "stderr",
          "output_type": "stream",
          "text": [
            "C:\\Users\\Chanchal Gupta\\AppData\\Local\\Temp\\ipykernel_5500\\3669160606.py:1: SettingWithCopyWarning: \n",
            "A value is trying to be set on a copy of a slice from a DataFrame.\n",
            "Try using .loc[row_indexer,col_indexer] = value instead\n",
            "\n",
            "See the caveats in the documentation: https://pandas.pydata.org/pandas-docs/stable/user_guide/indexing.html#returning-a-view-versus-a-copy\n",
            "  TV_shows['duration'] = pd.to_numeric(TV_shows['duration'].str.split(\" \").str[0], errors = 'coerce').convert_dtypes()\n"
          ]
        }
      ],
      "source": [
        "TV_shows['duration'] = pd.to_numeric(TV_shows['duration'].str.split(\" \").str[0], errors = 'coerce').convert_dtypes()"
      ]
    },
    {
      "cell_type": "code",
      "execution_count": null,
      "id": "bc2aa647",
      "metadata": {
        "id": "bc2aa647",
        "outputId": "e9a1679d-2852-4105-cb9f-402ae4ffcc45"
      },
      "outputs": [
        {
          "data": {
            "image/png": "[encoded data removed]",
            "text/plain": [
              "<Figure size 2160x576 with 1 Axes>"
            ]
          },
          "metadata": {
            "needs_background": "light"
          },
          "output_type": "display_data"
        }
      ],
      "source": [
        "plt.figure(figsize = (30, 8))\n",
        "sns.barplot(x = 'title',y = 'duration', data = TV_shows.head(10))\n",
        "\n",
        "\n",
        "plt.xlabel('Title', fontsize = 25)\n",
        "plt.ylabel('Duration', fontsize = 25)\n",
        "plt.title('Movie Duration', fontsize = 30)\n",
        "plt.show()\n",
        "\n"
      ]
    },
    {
      "cell_type": "code",
      "execution_count": null,
      "id": "13db957f",
      "metadata": {
        "id": "13db957f",
        "outputId": "8f3fa9e7-5863-4de7-8a89-a114e80c8d5f"
      },
      "outputs": [
        {
          "data": {
            "text/plain": [
              "1     1793\n",
              "2      425\n",
              "3      199\n",
              "4       95\n",
              "5       65\n",
              "6       33\n",
              "7       23\n",
              "8       17\n",
              "9        9\n",
              "10       7\n",
              "13       3\n",
              "15       2\n",
              "12       2\n",
              "11       2\n",
              "17       1\n",
              "Name: duration, dtype: Int64"
            ]
          },
          "execution_count": 581,
          "metadata": {},
          "output_type": "execute_result"
        }
      ],
      "source": [
        "TV_shows['duration'].value_counts().sort_values(ascending = False)\n",
        "\n",
        "#TV_shows on netflix has a duration of 1 season on average\n"
      ]
    },
    {
      "cell_type": "code",
      "execution_count": null,
      "id": "31e0d67f",
      "metadata": {
        "id": "31e0d67f",
        "outputId": "7b8f0c82-8e23-4b9c-f14c-08f9973e69d0"
      },
      "outputs": [
        {
          "data": {
            "text/plain": [
              "'\\nSUMMARY:\\n\\n-> Netflix is a streaming service that offers a wide variety of award winning TV shows, movies, \\nanime, comedies and many more.\\n-> As per data, The percentage of total content contributes more for Movies 69.62% than TV Shows 30.38%.\\n-> Country that produces larger content on Netflix is United States with 2000++ for Movies and 700++ for TV Shows.\\n-> Director Rajiv Chilaka has directed a total of 22 movies in the last 10 years with 2.2 movies/year \\ntherefore the most productive director\\n-> The actor with the larger number of contents on netflix is Anupam Kher with 40++ Movies\\n-> TV-MA(Mature Audience) has the highest rating for Movies as well as TV_shows\\n-> Less time difference between release date and date_added results in high ratings.\\n-> The number of content title Movies/TVShows were mostly released in year 2018 and \\noverall July and December month seems to be the \\nbest time to release the content.\\n-> The larger number of content titles is International Movies with 2500++ and International TV Shows with 1200++\\n-> On an average the duration for movies is 110 mins and 1 season for TV shows.\\n\\n'"
            ]
          },
          "execution_count": 1,
          "metadata": {},
          "output_type": "execute_result"
        }
      ],
      "source": [
        "'''\n",
        "SUMMARY:\n",
        "\n",
        "-> Netflix is a streaming service that offers a wide variety of award winning TV shows, movies,\n",
        "anime, comedies and many more.\n",
        "-> As per data, The percentage of total content contributes more for Movies 69.62% than TV Shows 30.38%.\n",
        "-> Country that produces larger content on Netflix is United States with 2000++ for Movies and 700++ for TV Shows.\n",
        "-> Director Rajiv Chilaka has directed a total of 22 movies in the last 10 years with 2.2 movies/year\n",
        "therefore the most productive director\n",
        "-> The actor with the larger number of contents on netflix is Anupam Kher with 40++ Movies\n",
        "-> TV-MA(Mature Audience) has the highest rating for Movies as well as TV_shows\n",
        "-> Less time difference between release date and date_added results in high ratings.\n",
        "-> The number of content title Movies/TVShows were mostly released in year 2018 and\n",
        "overall July and December month seems to be the\n",
        "best time to release the content.\n",
        "-> The larger number of content titles is International Movies with 2500++ and International TV Shows with 1200++\n",
        "-> On an average the duration for movies is 110 mins and 1 season for TV shows.\n",
        "\n",
        "'''"
      ]
    },
    {
      "cell_type": "code",
      "execution_count": null,
      "id": "4c9514bd",
      "metadata": {
        "id": "4c9514bd"
      },
      "outputs": [],
      "source": []
    },
    {
      "cell_type": "code",
      "execution_count": null,
      "id": "3e9af5fb",
      "metadata": {
        "id": "3e9af5fb"
      },
      "outputs": [],
      "source": []
    },
    {
      "cell_type": "code",
      "execution_count": null,
      "id": "5bcfb1d3",
      "metadata": {
        "id": "5bcfb1d3"
      },
      "outputs": [],
      "source": []
    }
  ],
  "metadata": {
    "kernelspec": {
      "display_name": "Python 3 (ipykernel)",
      "language": "python",
      "name": "python3"
    },
    "language_info": {
      "codemirror_mode": {
        "name": "ipython",
        "version": 3
      },
      "file_extension": ".py",
      "mimetype": "text/x-python",
      "name": "python",
      "nbconvert_exporter": "python",
      "pygments_lexer": "ipython3",
      "version": "3.9.12"
    },
    "colab": {
      "provenance": [],
      "include_colab_link": true
    }
  },
  "nbformat": 4,
  "nbformat_minor": 5
}